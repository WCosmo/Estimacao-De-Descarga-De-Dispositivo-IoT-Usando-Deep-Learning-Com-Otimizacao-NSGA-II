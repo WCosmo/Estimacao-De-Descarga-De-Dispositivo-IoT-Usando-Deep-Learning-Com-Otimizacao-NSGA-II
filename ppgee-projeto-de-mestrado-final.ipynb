{
 "cells": [
  {
   "cell_type": "markdown",
   "id": "db754fec",
   "metadata": {
    "papermill": {
     "duration": 0.011489,
     "end_time": "2024-02-03T21:29:51.343352",
     "exception": false,
     "start_time": "2024-02-03T21:29:51.331863",
     "status": "completed"
    },
    "tags": []
   },
   "source": [
    "# Inicialização"
   ]
  },
  {
   "cell_type": "markdown",
   "id": "02eb2114",
   "metadata": {
    "papermill": {
     "duration": 0.010991,
     "end_time": "2024-02-03T21:29:51.365365",
     "exception": false,
     "start_time": "2024-02-03T21:29:51.354374",
     "status": "completed"
    },
    "tags": []
   },
   "source": [
    "Instalação da biblioteca para NSGA-II:"
   ]
  },
  {
   "cell_type": "code",
   "execution_count": 1,
   "id": "c979c12f",
   "metadata": {
    "execution": {
     "iopub.execute_input": "2024-02-03T21:29:51.388915Z",
     "iopub.status.busy": "2024-02-03T21:29:51.388550Z",
     "iopub.status.idle": "2024-02-03T21:30:08.683955Z",
     "shell.execute_reply": "2024-02-03T21:30:08.682838Z"
    },
    "papermill": {
     "duration": 17.310019,
     "end_time": "2024-02-03T21:30:08.686338",
     "exception": false,
     "start_time": "2024-02-03T21:29:51.376319",
     "status": "completed"
    },
    "tags": []
   },
   "outputs": [],
   "source": [
    "!pip install -q pymoo"
   ]
  },
  {
   "cell_type": "markdown",
   "id": "c37ef5f8",
   "metadata": {
    "papermill": {
     "duration": 0.011925,
     "end_time": "2024-02-03T21:30:08.709627",
     "exception": false,
     "start_time": "2024-02-03T21:30:08.697702",
     "status": "completed"
    },
    "tags": []
   },
   "source": [
    "Inicialização das bibliotecas utilizadas:"
   ]
  },
  {
   "cell_type": "code",
   "execution_count": 2,
   "id": "962eefb7",
   "metadata": {
    "execution": {
     "iopub.execute_input": "2024-02-03T21:30:08.733661Z",
     "iopub.status.busy": "2024-02-03T21:30:08.733317Z",
     "iopub.status.idle": "2024-02-03T21:30:09.509176Z",
     "shell.execute_reply": "2024-02-03T21:30:09.508177Z"
    },
    "papermill": {
     "duration": 0.79096,
     "end_time": "2024-02-03T21:30:09.511555",
     "exception": false,
     "start_time": "2024-02-03T21:30:08.720595",
     "status": "completed"
    },
    "tags": []
   },
   "outputs": [],
   "source": [
    "import numpy as np\n",
    "import pandas as pd\n",
    "import matplotlib.pyplot as plt"
   ]
  },
  {
   "cell_type": "markdown",
   "id": "eb0707cc",
   "metadata": {
    "papermill": {
     "duration": 0.011141,
     "end_time": "2024-02-03T21:30:09.534144",
     "exception": false,
     "start_time": "2024-02-03T21:30:09.523003",
     "status": "completed"
    },
    "tags": []
   },
   "source": [
    "Bibliotecas para as redes Deep Learning:"
   ]
  },
  {
   "cell_type": "code",
   "execution_count": 3,
   "id": "ff0ec7b9",
   "metadata": {
    "execution": {
     "iopub.execute_input": "2024-02-03T21:30:09.558327Z",
     "iopub.status.busy": "2024-02-03T21:30:09.557111Z",
     "iopub.status.idle": "2024-02-03T21:30:23.157024Z",
     "shell.execute_reply": "2024-02-03T21:30:23.156023Z"
    },
    "papermill": {
     "duration": 13.614383,
     "end_time": "2024-02-03T21:30:23.159350",
     "exception": false,
     "start_time": "2024-02-03T21:30:09.544967",
     "status": "completed"
    },
    "tags": []
   },
   "outputs": [
    {
     "name": "stderr",
     "output_type": "stream",
     "text": [
      "2024-02-03 21:30:11.263520: E external/local_xla/xla/stream_executor/cuda/cuda_dnn.cc:9261] Unable to register cuDNN factory: Attempting to register factory for plugin cuDNN when one has already been registered\n",
      "2024-02-03 21:30:11.263637: E external/local_xla/xla/stream_executor/cuda/cuda_fft.cc:607] Unable to register cuFFT factory: Attempting to register factory for plugin cuFFT when one has already been registered\n",
      "2024-02-03 21:30:11.399952: E external/local_xla/xla/stream_executor/cuda/cuda_blas.cc:1515] Unable to register cuBLAS factory: Attempting to register factory for plugin cuBLAS when one has already been registered\n"
     ]
    }
   ],
   "source": [
    "import tensorflow as tf\n",
    "from tensorflow import keras\n",
    "from keras import layers\n",
    "from keras import models\n",
    "from keras import backend\n",
    "from sklearn.model_selection import train_test_split\n",
    "\n",
    "keras.utils.set_random_seed(6)"
   ]
  },
  {
   "cell_type": "markdown",
   "id": "5d667250",
   "metadata": {
    "papermill": {
     "duration": 0.010789,
     "end_time": "2024-02-03T21:30:23.181734",
     "exception": false,
     "start_time": "2024-02-03T21:30:23.170945",
     "status": "completed"
    },
    "tags": []
   },
   "source": [
    "Inicialização do NSGA-II:"
   ]
  },
  {
   "cell_type": "code",
   "execution_count": 4,
   "id": "1520868e",
   "metadata": {
    "execution": {
     "iopub.execute_input": "2024-02-03T21:30:23.205593Z",
     "iopub.status.busy": "2024-02-03T21:30:23.204966Z",
     "iopub.status.idle": "2024-02-03T21:30:23.993202Z",
     "shell.execute_reply": "2024-02-03T21:30:23.992406Z"
    },
    "papermill": {
     "duration": 0.80273,
     "end_time": "2024-02-03T21:30:23.995531",
     "exception": false,
     "start_time": "2024-02-03T21:30:23.192801",
     "status": "completed"
    },
    "tags": []
   },
   "outputs": [
    {
     "name": "stderr",
     "output_type": "stream",
     "text": [
      "2024-02-03 21:30:23,957\tINFO util.py:124 -- Outdated packages:\n",
      "  ipywidgets==7.7.1 found, needs ipywidgets>=8\n",
      "Run `pip install -U ipywidgets`, then restart the notebook server for rich notebook output.\n"
     ]
    }
   ],
   "source": [
    "from pymoo.core.problem import Problem\n",
    "from pymoo.algorithms.moo.nsga2 import NSGA2\n",
    "from pymoo.optimize import minimize\n",
    "from pymoo.operators.mutation.pm import PolynomialMutation\n",
    "from pymoo.operators.crossover.sbx import  SBX\n",
    "from pymoo.operators.repair.rounding import RoundingRepair\n",
    "from pymoo.operators.sampling.rnd import IntegerRandomSampling\n",
    "from pymoo.core.population import Population"
   ]
  },
  {
   "cell_type": "markdown",
   "id": "dd561eef",
   "metadata": {
    "papermill": {
     "duration": 0.010917,
     "end_time": "2024-02-03T21:30:24.017873",
     "exception": false,
     "start_time": "2024-02-03T21:30:24.006956",
     "status": "completed"
    },
    "tags": []
   },
   "source": [
    "Verificação do tempo de execução:"
   ]
  },
  {
   "cell_type": "code",
   "execution_count": 5,
   "id": "6654d312",
   "metadata": {
    "execution": {
     "iopub.execute_input": "2024-02-03T21:30:24.042033Z",
     "iopub.status.busy": "2024-02-03T21:30:24.041322Z",
     "iopub.status.idle": "2024-02-03T21:30:24.045709Z",
     "shell.execute_reply": "2024-02-03T21:30:24.044843Z"
    },
    "papermill": {
     "duration": 0.018511,
     "end_time": "2024-02-03T21:30:24.047641",
     "exception": false,
     "start_time": "2024-02-03T21:30:24.029130",
     "status": "completed"
    },
    "tags": []
   },
   "outputs": [],
   "source": [
    "import time\n",
    "start_time = time.time()"
   ]
  },
  {
   "cell_type": "markdown",
   "id": "a663cd57",
   "metadata": {
    "papermill": {
     "duration": 0.010656,
     "end_time": "2024-02-03T21:30:24.069533",
     "exception": false,
     "start_time": "2024-02-03T21:30:24.058877",
     "status": "completed"
    },
    "tags": []
   },
   "source": [
    "Carregamento dos datasets:"
   ]
  },
  {
   "cell_type": "code",
   "execution_count": 6,
   "id": "26ca961c",
   "metadata": {
    "execution": {
     "iopub.execute_input": "2024-02-03T21:30:24.092535Z",
     "iopub.status.busy": "2024-02-03T21:30:24.092212Z",
     "iopub.status.idle": "2024-02-03T21:30:24.968839Z",
     "shell.execute_reply": "2024-02-03T21:30:24.967979Z"
    },
    "papermill": {
     "duration": 0.890889,
     "end_time": "2024-02-03T21:30:24.971301",
     "exception": false,
     "start_time": "2024-02-03T21:30:24.080412",
     "status": "completed"
    },
    "tags": []
   },
   "outputs": [],
   "source": [
    "data1 = pd.read_csv('https://raw.githubusercontent.com/WCosmo/PPGEE-Projeto-de-mestrado/main/base_de_dados/thingspeak_canal_01.csv')\n",
    "data2 = pd.read_csv('https://raw.githubusercontent.com/WCosmo/PPGEE-Projeto-de-mestrado/main/base_de_dados/thingspeak_canal_02.csv')\n",
    "data3 = pd.read_csv('https://raw.githubusercontent.com/WCosmo/PPGEE-Projeto-de-mestrado/main/base_de_dados/thingspeak_canal_03.csv')"
   ]
  },
  {
   "cell_type": "markdown",
   "id": "59978910",
   "metadata": {
    "papermill": {
     "duration": 0.011255,
     "end_time": "2024-02-03T21:30:24.994378",
     "exception": false,
     "start_time": "2024-02-03T21:30:24.983123",
     "status": "completed"
    },
    "tags": []
   },
   "source": [
    "# Pré processamento dos dados"
   ]
  },
  {
   "cell_type": "markdown",
   "id": "9dc582d4",
   "metadata": {
    "papermill": {
     "duration": 0.010801,
     "end_time": "2024-02-03T21:30:25.016280",
     "exception": false,
     "start_time": "2024-02-03T21:30:25.005479",
     "status": "completed"
    },
    "tags": []
   },
   "source": [
    "Cada curva de descarga está associada a uma \"tag\" na API da Thingspeak, a seguir divide-se os dados separando as curvas em vetores:"
   ]
  },
  {
   "cell_type": "code",
   "execution_count": 7,
   "id": "273a550c",
   "metadata": {
    "execution": {
     "iopub.execute_input": "2024-02-03T21:30:25.040016Z",
     "iopub.status.busy": "2024-02-03T21:30:25.039649Z",
     "iopub.status.idle": "2024-02-03T21:30:25.977372Z",
     "shell.execute_reply": "2024-02-03T21:30:25.976541Z"
    },
    "papermill": {
     "duration": 0.952245,
     "end_time": "2024-02-03T21:30:25.979614",
     "exception": false,
     "start_time": "2024-02-03T21:30:25.027369",
     "status": "completed"
    },
    "tags": []
   },
   "outputs": [],
   "source": [
    "timestamp_e1 = []\n",
    "timestamp_e2 = []\n",
    "timestamp_e3 = []\n",
    "timestamp_e4 = []\n",
    "timestamp_e5 = []\n",
    "\n",
    "d_curve_e1 = []\n",
    "d_curve_e2 = []\n",
    "d_curve_e3 = []\n",
    "d_curve_e4 = []\n",
    "d_curve_e5 = []\n",
    "\n",
    "for i in range(len(data2['field1'].to_numpy())):\n",
    "  if data2['field2'].to_numpy()[i] < 3.7 and data2['field2'].to_numpy()[i] > 2.70 :\n",
    "    if data2['field1'].to_numpy()[i] == 1: #Retornar apenas o experimento 1\n",
    "      timestamp_e1.append(data2['created_at'][i])\n",
    "      d_curve_e1.append(data2['field2'].to_numpy()[i])\n",
    "    if data2['field1'].to_numpy()[i] == 2: #Retornar apenas o experimento 3\n",
    "      timestamp_e3.append(data2['created_at'][i])\n",
    "      d_curve_e3.append(data2['field2'].to_numpy()[i])\n",
    "\n",
    "for i in range(len(data1['field1'].to_numpy())):\n",
    "  if data1['field2'].to_numpy()[i] < 3.7 and data1['field2'].to_numpy()[i] > 2.70 :\n",
    "    if data1['field1'].to_numpy()[i] == 2: #Retornar apenas o experimento 2\n",
    "      timestamp_e2.append(data1['created_at'][i])\n",
    "      d_curve_e2.append(data1['field2'].to_numpy()[i])\n",
    "\n",
    "for i in range(len(data3['field1'].to_numpy())):\n",
    "  if data3['field2'].to_numpy()[i] < 3.7 and data3['field2'].to_numpy()[i] > 2.70 :\n",
    "    if data3['field1'].to_numpy()[i] == 0: #Retornar apenas o experimento 4\n",
    "      timestamp_e4.append(data3['created_at'][i])\n",
    "      d_curve_e4.append(data3['field2'].to_numpy()[i])\n",
    "    if data3['field1'].to_numpy()[i] == 1: #Retornar apenas o experimento 5\n",
    "      timestamp_e5.append(data3['created_at'][i])\n",
    "      d_curve_e5.append(data3['field2'].to_numpy()[i])\n",
    "        \n",
    "d_curve_e1 = np.array(d_curve_e1)\n",
    "d_curve_e2 = np.array(d_curve_e2)\n",
    "d_curve_e3 = np.array(d_curve_e3[2:])\n",
    "d_curve_e4 = np.array(d_curve_e4)\n",
    "d_curve_e5 = np.array(d_curve_e5)"
   ]
  },
  {
   "cell_type": "markdown",
   "id": "88008a58",
   "metadata": {
    "papermill": {
     "duration": 0.01065,
     "end_time": "2024-02-03T21:30:26.001721",
     "exception": false,
     "start_time": "2024-02-03T21:30:25.991071",
     "status": "completed"
    },
    "tags": []
   },
   "source": [
    "Função para transformar o timestamp no formato \"yyyy/mm/dd-hh:mm:ss\" para apenas segundo, que é a menor unidade de tempo presente no timestamp:"
   ]
  },
  {
   "cell_type": "code",
   "execution_count": 8,
   "id": "8778e0ba",
   "metadata": {
    "execution": {
     "iopub.execute_input": "2024-02-03T21:30:26.024757Z",
     "iopub.status.busy": "2024-02-03T21:30:26.024450Z",
     "iopub.status.idle": "2024-02-03T21:30:26.031474Z",
     "shell.execute_reply": "2024-02-03T21:30:26.030663Z"
    },
    "papermill": {
     "duration": 0.020877,
     "end_time": "2024-02-03T21:30:26.033444",
     "exception": false,
     "start_time": "2024-02-03T21:30:26.012567",
     "status": "completed"
    },
    "tags": []
   },
   "outputs": [],
   "source": [
    "def timestamper(timestamp):\n",
    "\n",
    "  ft = 0\n",
    "  ii = 0\n",
    "  timescale = []\n",
    "\n",
    "  for t in timestamp:\n",
    "    sbuff = t.split('T')\n",
    "    s_ymd = sbuff[0].split('-')\n",
    "    ymd = int(s_ymd[0])*31536000 + int(s_ymd[1])*2592000 + int(s_ymd[2])*86400 #converter yyyy/mm/dd para s\n",
    "\n",
    "    bs_hr = sbuff[1].split('-')\n",
    "    s_hr = bs_hr[0].split(':')\n",
    "    hr = int(s_hr[0])*3600 + int(s_hr[1])*60 + int(s_hr[2]) #converter hh:mm:ss para s\n",
    "\n",
    "    ts = ymd + hr\n",
    "    timescale.append(ts)\n",
    "\n",
    "\n",
    "  timescale = np.array(timescale)\n",
    "  return timescale - min(timescale)"
   ]
  },
  {
   "cell_type": "code",
   "execution_count": 9,
   "id": "dfc93c26",
   "metadata": {
    "execution": {
     "iopub.execute_input": "2024-02-03T21:30:26.056664Z",
     "iopub.status.busy": "2024-02-03T21:30:26.056383Z",
     "iopub.status.idle": "2024-02-03T21:30:26.105109Z",
     "shell.execute_reply": "2024-02-03T21:30:26.104328Z"
    },
    "papermill": {
     "duration": 0.062914,
     "end_time": "2024-02-03T21:30:26.107390",
     "exception": false,
     "start_time": "2024-02-03T21:30:26.044476",
     "status": "completed"
    },
    "tags": []
   },
   "outputs": [],
   "source": [
    "t_e1 = timestamper(timestamp_e1[:])\n",
    "t_e2 = timestamper(timestamp_e2[:])\n",
    "t_e3 = timestamper(timestamp_e3[2:])\n",
    "t_e4 = timestamper(timestamp_e4[:])\n",
    "t_e5 = timestamper(timestamp_e5[:])"
   ]
  },
  {
   "cell_type": "markdown",
   "id": "b5dc1ab7",
   "metadata": {
    "papermill": {
     "duration": 0.010818,
     "end_time": "2024-02-03T21:30:26.129744",
     "exception": false,
     "start_time": "2024-02-03T21:30:26.118926",
     "status": "completed"
    },
    "tags": []
   },
   "source": [
    "Plot das curvas de descarga com a escala de tempo correspondente:"
   ]
  },
  {
   "cell_type": "code",
   "execution_count": 10,
   "id": "8bb4cdf7",
   "metadata": {
    "execution": {
     "iopub.execute_input": "2024-02-03T21:30:26.164364Z",
     "iopub.status.busy": "2024-02-03T21:30:26.163925Z",
     "iopub.status.idle": "2024-02-03T21:30:26.444466Z",
     "shell.execute_reply": "2024-02-03T21:30:26.443405Z"
    },
    "papermill": {
     "duration": 0.301437,
     "end_time": "2024-02-03T21:30:26.446804",
     "exception": false,
     "start_time": "2024-02-03T21:30:26.145367",
     "status": "completed"
    },
    "tags": []
   },
   "outputs": [
    {
     "data": {
      "image/png": "[encoded data removed]",
      "text/plain": [
       "<Figure size 900x400 with 1 Axes>"
      ]
     },
     "metadata": {},
     "output_type": "display_data"
    }
   ],
   "source": [
    "plt.rcParams['figure.figsize'] = (9, 4)\n",
    "plt.plot(t_e1/(60*60),d_curve_e1, ls = ':', label='Descarga A')#DS18B20\n",
    "plt.plot(t_e2/(60*60),d_curve_e2, ls = ':', label='Descarga B')#DS18B20 e Voltímetro\n",
    "plt.plot(t_e4/(60*60),d_curve_e4, ls = ':', label='Descarga C')#Termopar I2C\n",
    "plt.plot(t_e3/(60*60),d_curve_e3, ls = ':', label='Descarga D')#Voltímetro\n",
    "plt.plot(t_e5/(60*60),d_curve_e5, ls = '--', label='Descarga E')#Termopar I2C e INA219\n",
    "\n",
    "plt.legend(loc='lower left')\n",
    "#plt.title('Curvas de Descarga')\n",
    "plt.xlabel('Tempo (h)')\n",
    "plt.ylabel('Tensão (V)')\n",
    "plt.show()"
   ]
  },
  {
   "cell_type": "markdown",
   "id": "c41cebe1",
   "metadata": {
    "papermill": {
     "duration": 0.012037,
     "end_time": "2024-02-03T21:30:26.471394",
     "exception": false,
     "start_time": "2024-02-03T21:30:26.459357",
     "status": "completed"
    },
    "tags": []
   },
   "source": [
    "Função que gera instâncias a partir de um número de pontos (tamantnho do segmento observado):"
   ]
  },
  {
   "cell_type": "code",
   "execution_count": 11,
   "id": "48c82f7c",
   "metadata": {
    "execution": {
     "iopub.execute_input": "2024-02-03T21:30:26.497695Z",
     "iopub.status.busy": "2024-02-03T21:30:26.496932Z",
     "iopub.status.idle": "2024-02-03T21:30:26.503356Z",
     "shell.execute_reply": "2024-02-03T21:30:26.502460Z"
    },
    "papermill": {
     "duration": 0.021577,
     "end_time": "2024-02-03T21:30:26.505379",
     "exception": false,
     "start_time": "2024-02-03T21:30:26.483802",
     "status": "completed"
    },
    "tags": []
   },
   "outputs": [],
   "source": [
    "def gen_dataset(curve, ts, pn):\n",
    "  ll = len(curve)\n",
    "\n",
    "  X = np.zeros((ll-pn, pn))\n",
    "  Y = np.zeros(ll-pn)\n",
    "\n",
    "  for i in range(ll-pn):\n",
    "    for j in range(pn):\n",
    "      X[i][pn-j-1] = curve[pn+i-j-1]\n",
    "\n",
    "\n",
    "  Y = ts[pn:]\n",
    "  Y = max(Y) - Y\n",
    "\n",
    "  return (X,Y)"
   ]
  },
  {
   "cell_type": "markdown",
   "id": "40337d29",
   "metadata": {
    "papermill": {
     "duration": 0.011524,
     "end_time": "2024-02-03T21:30:26.529349",
     "exception": false,
     "start_time": "2024-02-03T21:30:26.517825",
     "status": "completed"
    },
    "tags": []
   },
   "source": [
    "Outras funções pertinentes (normalização, reescalagem)"
   ]
  },
  {
   "cell_type": "code",
   "execution_count": 12,
   "id": "d47c5722",
   "metadata": {
    "execution": {
     "iopub.execute_input": "2024-02-03T21:30:26.556445Z",
     "iopub.status.busy": "2024-02-03T21:30:26.555732Z",
     "iopub.status.idle": "2024-02-03T21:30:26.560596Z",
     "shell.execute_reply": "2024-02-03T21:30:26.559636Z"
    },
    "papermill": {
     "duration": 0.020731,
     "end_time": "2024-02-03T21:30:26.562623",
     "exception": false,
     "start_time": "2024-02-03T21:30:26.541892",
     "status": "completed"
    },
    "tags": []
   },
   "outputs": [],
   "source": [
    "def norm(v, mi, ma):\n",
    "  n_v = (v-mi)/(ma-mi)\n",
    "\n",
    "  return n_v"
   ]
  },
  {
   "cell_type": "code",
   "execution_count": 13,
   "id": "e8c6ca1e",
   "metadata": {
    "execution": {
     "iopub.execute_input": "2024-02-03T21:30:26.587738Z",
     "iopub.status.busy": "2024-02-03T21:30:26.587439Z",
     "iopub.status.idle": "2024-02-03T21:30:26.591690Z",
     "shell.execute_reply": "2024-02-03T21:30:26.590864Z"
    },
    "papermill": {
     "duration": 0.018973,
     "end_time": "2024-02-03T21:30:26.593607",
     "exception": false,
     "start_time": "2024-02-03T21:30:26.574634",
     "status": "completed"
    },
    "tags": []
   },
   "outputs": [],
   "source": [
    "def de_norm(n_v, mi, ma):\n",
    "  v = ((n_v)*(ma-mi))+mi\n",
    "\n",
    "  return v"
   ]
  },
  {
   "cell_type": "code",
   "execution_count": 14,
   "id": "2514a4a0",
   "metadata": {
    "execution": {
     "iopub.execute_input": "2024-02-03T21:30:26.618156Z",
     "iopub.status.busy": "2024-02-03T21:30:26.617865Z",
     "iopub.status.idle": "2024-02-03T21:30:26.626490Z",
     "shell.execute_reply": "2024-02-03T21:30:26.625652Z"
    },
    "papermill": {
     "duration": 0.023116,
     "end_time": "2024-02-03T21:30:26.628423",
     "exception": false,
     "start_time": "2024-02-03T21:30:26.605307",
     "status": "completed"
    },
    "tags": []
   },
   "outputs": [],
   "source": [
    "X_min = 2.70 #tensão de carga mínima\n",
    "X_max = 3.70 #tensão de carga máxima\n",
    "\n",
    "Y_min = min(np.concatenate((t_e1,t_e2,t_e3,t_e4,t_e5)))\n",
    "Y_max = max(np.concatenate((t_e1,t_e2,t_e3,t_e4,t_e5)))"
   ]
  },
  {
   "cell_type": "markdown",
   "id": "5dba0f43",
   "metadata": {
    "papermill": {
     "duration": 0.011327,
     "end_time": "2024-02-03T21:30:26.651490",
     "exception": false,
     "start_time": "2024-02-03T21:30:26.640163",
     "status": "completed"
    },
    "tags": []
   },
   "source": [
    "Número de épocas de treinamento do modelo:"
   ]
  },
  {
   "cell_type": "code",
   "execution_count": 15,
   "id": "5d318aa4",
   "metadata": {
    "execution": {
     "iopub.execute_input": "2024-02-03T21:30:26.684933Z",
     "iopub.status.busy": "2024-02-03T21:30:26.684116Z",
     "iopub.status.idle": "2024-02-03T21:30:26.689334Z",
     "shell.execute_reply": "2024-02-03T21:30:26.688260Z"
    },
    "papermill": {
     "duration": 0.026353,
     "end_time": "2024-02-03T21:30:26.692897",
     "exception": false,
     "start_time": "2024-02-03T21:30:26.666544",
     "status": "completed"
    },
    "tags": []
   },
   "outputs": [],
   "source": [
    "ep = 10"
   ]
  },
  {
   "cell_type": "markdown",
   "id": "9dd3f47f",
   "metadata": {
    "papermill": {
     "duration": 0.014818,
     "end_time": "2024-02-03T21:30:26.722544",
     "exception": false,
     "start_time": "2024-02-03T21:30:26.707726",
     "status": "completed"
    },
    "tags": []
   },
   "source": [
    "# Implementação da Otimização Multiobjetivo"
   ]
  },
  {
   "cell_type": "markdown",
   "id": "da25aba0",
   "metadata": {
    "papermill": {
     "duration": 0.012375,
     "end_time": "2024-02-03T21:30:26.747403",
     "exception": false,
     "start_time": "2024-02-03T21:30:26.735028",
     "status": "completed"
    },
    "tags": []
   },
   "source": [
    "Inicialização do ambiente GPU:"
   ]
  },
  {
   "cell_type": "code",
   "execution_count": 16,
   "id": "54c9b263",
   "metadata": {
    "execution": {
     "iopub.execute_input": "2024-02-03T21:30:26.773581Z",
     "iopub.status.busy": "2024-02-03T21:30:26.772701Z",
     "iopub.status.idle": "2024-02-03T21:30:26.995302Z",
     "shell.execute_reply": "2024-02-03T21:30:26.994367Z"
    },
    "papermill": {
     "duration": 0.238009,
     "end_time": "2024-02-03T21:30:26.997425",
     "exception": false,
     "start_time": "2024-02-03T21:30:26.759416",
     "status": "completed"
    },
    "tags": []
   },
   "outputs": [
    {
     "name": "stdout",
     "output_type": "stream",
     "text": [
      "N. GPUs Disponíveis:  1\n"
     ]
    }
   ],
   "source": [
    "print(\"N. GPUs Disponíveis: \", len(tf.config.list_physical_devices('GPU')))"
   ]
  },
  {
   "cell_type": "code",
   "execution_count": 17,
   "id": "9e51791e",
   "metadata": {
    "execution": {
     "iopub.execute_input": "2024-02-03T21:30:27.023959Z",
     "iopub.status.busy": "2024-02-03T21:30:27.023027Z",
     "iopub.status.idle": "2024-02-03T21:30:27.027761Z",
     "shell.execute_reply": "2024-02-03T21:30:27.026912Z"
    },
    "papermill": {
     "duration": 0.01993,
     "end_time": "2024-02-03T21:30:27.029686",
     "exception": false,
     "start_time": "2024-02-03T21:30:27.009756",
     "status": "completed"
    },
    "tags": []
   },
   "outputs": [],
   "source": [
    "physical_devices = tf.config.list_physical_devices('GPU')\n",
    "tf.config.set_visible_devices(physical_devices[0], 'GPU')"
   ]
  },
  {
   "cell_type": "markdown",
   "id": "06bee9ab",
   "metadata": {
    "papermill": {
     "duration": 0.01179,
     "end_time": "2024-02-03T21:30:27.053739",
     "exception": false,
     "start_time": "2024-02-03T21:30:27.041949",
     "status": "completed"
    },
    "tags": []
   },
   "source": [
    "Função para geração de Datasets de treino e teste baseados em um dado tamanho da janela de observação (número de neurônios de entrada):"
   ]
  },
  {
   "cell_type": "code",
   "execution_count": 18,
   "id": "395ffba2",
   "metadata": {
    "execution": {
     "iopub.execute_input": "2024-02-03T21:30:27.079687Z",
     "iopub.status.busy": "2024-02-03T21:30:27.078976Z",
     "iopub.status.idle": "2024-02-03T21:30:27.090575Z",
     "shell.execute_reply": "2024-02-03T21:30:27.089598Z"
    },
    "papermill": {
     "duration": 0.026897,
     "end_time": "2024-02-03T21:30:27.092669",
     "exception": false,
     "start_time": "2024-02-03T21:30:27.065772",
     "status": "completed"
    },
    "tags": []
   },
   "outputs": [],
   "source": [
    "def redmis_dataset(ne):\n",
    "  \n",
    "    d1 = gen_dataset(norm(d_curve_e1, X_min, X_max), norm(t_e1, Y_min, Y_max), ne) #curva de descarga A\n",
    "    d2 = gen_dataset(norm(d_curve_e3, X_min, X_max), norm(t_e3, Y_min, Y_max), ne) #curva de descarga B\n",
    "    d3 = gen_dataset(norm(d_curve_e2, X_min, X_max), norm(t_e2, Y_min, Y_max), ne) #curva de descarga C\n",
    "    d4 = gen_dataset(norm(d_curve_e4, X_min, X_max), norm(t_e4, Y_min, Y_max), ne) #curva de descarga D\n",
    "    d5 = gen_dataset(norm(d_curve_e5, X_min, X_max), norm(t_e5, Y_min, Y_max), ne) #curva de descarga E\n",
    "    \n",
    "    #20% dos dados para validação\n",
    "    d1Xf, d1Xv, d1Yf, d1Yv = train_test_split(d1[0], d1[1], test_size=0.2, random_state=6)\n",
    "    d2Xf, d2Xv, d2Yf, d2Yv = train_test_split(d2[0], d2[1], test_size=0.2, random_state=6)\n",
    "    d3Xf, d3Xv, d3Yf, d3Yv = train_test_split(d3[0], d3[1], test_size=0.2, random_state=6) \n",
    "    d4Xf, d4Xv, d4Yf, d4Yv = train_test_split(d4[0], d4[1], test_size=0.2, random_state=6) \n",
    "    \n",
    "    #Treino: Descargas A, B, C e D (80%)\n",
    "    X_treino = pd.DataFrame(np.concatenate((d1Xf, d2Xf, d3Xf, d4Xf)))\n",
    "    Y_treino = pd.DataFrame(np.concatenate((d1Yf, d2Yf, d3Yf, d4Yf)))\n",
    "    \n",
    "    #Validação: Descargas A, B, C e D (20%)\n",
    "    X_val = pd.DataFrame(np.concatenate((d1Xv, d2Xv, d3Xv, d4Xv)))\n",
    "    Y_val = pd.DataFrame(np.concatenate((d1Yv, d2Yv, d3Yv, d4Yv)))\n",
    "\n",
    "    #Teste: Descargas E\n",
    "    X_teste = pd.DataFrame(d5[0])\n",
    "    Y_teste = pd.DataFrame(d5[1])\n",
    "\n",
    "    return X_treino, Y_treino, X_teste, Y_teste, X_val, Y_val"
   ]
  },
  {
   "cell_type": "markdown",
   "id": "7e04a03c",
   "metadata": {
    "papermill": {
     "duration": 0.011767,
     "end_time": "2024-02-03T21:30:27.116845",
     "exception": false,
     "start_time": "2024-02-03T21:30:27.105078",
     "status": "completed"
    },
    "tags": []
   },
   "source": [
    "Função para avaliação de um indivíduo. Um indivíduo consiste em um combinação de:\n",
    "\n",
    "- Número de neurônios da camada de entrada (n_entrada)\n",
    "- Número de neurônios na camada CNN (n_cnn)\n",
    "- Número de neurônios da camada LSTM (n_lstm)"
   ]
  },
  {
   "cell_type": "code",
   "execution_count": 19,
   "id": "4f51c2e7",
   "metadata": {
    "execution": {
     "iopub.execute_input": "2024-02-03T21:30:27.142554Z",
     "iopub.status.busy": "2024-02-03T21:30:27.142204Z",
     "iopub.status.idle": "2024-02-03T21:30:27.151770Z",
     "shell.execute_reply": "2024-02-03T21:30:27.150877Z"
    },
    "papermill": {
     "duration": 0.025059,
     "end_time": "2024-02-03T21:30:27.153829",
     "exception": false,
     "start_time": "2024-02-03T21:30:27.128770",
     "status": "completed"
    },
    "tags": []
   },
   "outputs": [],
   "source": [
    "def evaluate_ind(individual):\n",
    "    n_cnn, n_lstm, n_entrada = individual\n",
    "\n",
    "    with tf.device('/GPU:0'):\n",
    "      model = keras.models.Sequential()\n",
    "      model.add(keras.layers.Reshape((n_entrada, 1), input_shape=(n_entrada,)))\n",
    "\n",
    "      #1st layer - CNN\n",
    "      model.add(keras.layers.Conv1D(n_cnn, 3, activation='relu'))\n",
    "      model.add(keras.layers.MaxPooling1D(2))\n",
    "\n",
    "      #2nd layer - LSTM\n",
    "      model.add(keras.layers.Flatten())\n",
    "      model.add(keras.layers.Reshape((int((n_entrada-2)/2), n_cnn)))\n",
    "      model.add(keras.layers.LSTM(n_lstm, activation='tanh'))\n",
    "\n",
    "      #Output layer\n",
    "      model.add(keras.layers.Dense(1, activation='sigmoid'))\n",
    "\n",
    "      model.compile(optimizer='adam', loss=keras.losses.MeanSquaredError(), metrics=['mse'])\n",
    "      Xf, Yf, Xt, Yt, Xv, Yv = redmis_dataset(n_entrada)    \n",
    "      \n",
    "      h = model.fit(Xf, Yf, epochs=ep, batch_size=64, verbose=0, validation_data=(Xv, Yv))\n",
    "\n",
    "      eval_mse = model.evaluate(Xt, Yt, verbose=0) \n",
    "\n",
    "      keras.backend.clear_session()\n",
    "\n",
    "    return eval_mse[1], n_entrada\n"
   ]
  },
  {
   "cell_type": "markdown",
   "id": "27f5e447",
   "metadata": {
    "papermill": {
     "duration": 0.011632,
     "end_time": "2024-02-03T21:30:27.177659",
     "exception": false,
     "start_time": "2024-02-03T21:30:27.166027",
     "status": "completed"
    },
    "tags": []
   },
   "source": [
    "Função para avaliar uma populaçao composta de indivíduos:"
   ]
  },
  {
   "cell_type": "code",
   "execution_count": 20,
   "id": "8b6e51c3",
   "metadata": {
    "execution": {
     "iopub.execute_input": "2024-02-03T21:30:27.248921Z",
     "iopub.status.busy": "2024-02-03T21:30:27.248293Z",
     "iopub.status.idle": "2024-02-03T21:30:27.254212Z",
     "shell.execute_reply": "2024-02-03T21:30:27.253325Z"
    },
    "papermill": {
     "duration": 0.020835,
     "end_time": "2024-02-03T21:30:27.256142",
     "exception": false,
     "start_time": "2024-02-03T21:30:27.235307",
     "status": "completed"
    },
    "tags": []
   },
   "outputs": [],
   "source": [
    "def evaluate_pop(population):\n",
    "    n_cnn, n_lstm, n_entrada = population\n",
    "\n",
    "    mse_fitness = []\n",
    "    ne_fitness = []\n",
    "    for n in range(len(n_cnn)):\n",
    "        mse, ne = evaluate_ind((n_cnn[n], n_lstm[n], n_entrada[n]))\n",
    "        mse_fitness.append(mse)\n",
    "        ne_fitness.append(ne)\n",
    "\n",
    "    return np.array(mse_fitness), np.array(ne_fitness)"
   ]
  },
  {
   "cell_type": "markdown",
   "id": "549ee139",
   "metadata": {
    "papermill": {
     "duration": 0.011879,
     "end_time": "2024-02-03T21:30:27.279931",
     "exception": false,
     "start_time": "2024-02-03T21:30:27.268052",
     "status": "completed"
    },
    "tags": []
   },
   "source": [
    "Definição da classe do problema a ser otimizado:"
   ]
  },
  {
   "cell_type": "code",
   "execution_count": 21,
   "id": "ba5178e7",
   "metadata": {
    "execution": {
     "iopub.execute_input": "2024-02-03T21:30:27.305527Z",
     "iopub.status.busy": "2024-02-03T21:30:27.304928Z",
     "iopub.status.idle": "2024-02-03T21:30:27.311564Z",
     "shell.execute_reply": "2024-02-03T21:30:27.310633Z"
    },
    "papermill": {
     "duration": 0.021609,
     "end_time": "2024-02-03T21:30:27.313503",
     "exception": false,
     "start_time": "2024-02-03T21:30:27.291894",
     "status": "completed"
    },
    "tags": []
   },
   "outputs": [],
   "source": [
    "class targetProblem(Problem):\n",
    "    def __init__(self):\n",
    "      super().__init__(n_var=3, n_obj=2, n_constr=0, xl=[6, 6, 4], xu=[32, 32, 32], vtype=int)\n",
    "\n",
    "    def _evaluate(self, x, out, *args, **kwargs):\n",
    "        n_cnn = x[:,0]\n",
    "        n_lstm = x[:,1]\n",
    "        n_entrada = x[:,2]\n",
    "\n",
    "        mse, _ = evaluate_pop((n_cnn, n_lstm, n_entrada))\n",
    "        out[\"F\"] = [mse, n_entrada]"
   ]
  },
  {
   "cell_type": "markdown",
   "id": "1b081db0",
   "metadata": {
    "papermill": {
     "duration": 0.01203,
     "end_time": "2024-02-03T21:30:27.337761",
     "exception": false,
     "start_time": "2024-02-03T21:30:27.325731",
     "status": "completed"
    },
    "tags": []
   },
   "source": [
    "Implementação do algoritmo NSGA2 no problema definido:"
   ]
  },
  {
   "cell_type": "code",
   "execution_count": 22,
   "id": "3ad37aff",
   "metadata": {
    "execution": {
     "iopub.execute_input": "2024-02-03T21:30:27.363453Z",
     "iopub.status.busy": "2024-02-03T21:30:27.363074Z",
     "iopub.status.idle": "2024-02-03T22:29:41.598267Z",
     "shell.execute_reply": "2024-02-03T22:29:41.597340Z"
    },
    "papermill": {
     "duration": 3554.250411,
     "end_time": "2024-02-03T22:29:41.600249",
     "exception": false,
     "start_time": "2024-02-03T21:30:27.349838",
     "status": "completed"
    },
    "tags": []
   },
   "outputs": [
    {
     "name": "stdout",
     "output_type": "stream",
     "text": [
      "\n",
      "\n",
      "NSGA-II inicializado - tamanho da população:  20\n"
     ]
    },
    {
     "name": "stderr",
     "output_type": "stream",
     "text": [
      "WARNING: All log messages before absl::InitializeLog() is called are written to STDERR\n",
      "I0000 00:00:1706995832.184314      78 device_compiler.h:186] Compiled cluster using XLA!  This line is logged at most once for the lifetime of the process.\n"
     ]
    },
    {
     "name": "stdout",
     "output_type": "stream",
     "text": [
      "==========================================================\n",
      "n_gen  |  n_eval  | n_nds  |      eps      |   indicator  \n",
      "==========================================================\n",
      "     1 |       20 |      6 |             - |             -\n",
      "     2 |       40 |      5 |  0.0769230769 |         ideal\n",
      "     3 |       60 |      5 |  0.0261847871 |             f\n",
      "     4 |       80 |      4 |  0.1251550879 |         nadir\n",
      "     5 |      100 |      3 |  0.0638514077 |             f\n",
      "     6 |      120 |      3 |  0.0158099476 |             f\n",
      "     7 |      140 |      3 |  0.0272403357 |         ideal\n",
      "     8 |      160 |      3 |  0.0109015148 |         ideal\n",
      "     9 |      180 |      3 |  0.000000E+00 |             f\n",
      "    10 |      200 |      3 |  0.000000E+00 |             f\n",
      "    11 |      220 |      3 |  0.000000E+00 |             f\n",
      "    12 |      240 |      3 |  0.000000E+00 |             f\n",
      "    13 |      260 |      3 |  0.0044485226 |             f\n",
      "    14 |      280 |      3 |  0.000000E+00 |             f\n",
      "    15 |      300 |      3 |  0.0088593227 |             f\n",
      "    16 |      320 |      3 |  0.000000E+00 |             f\n",
      "    17 |      340 |      3 |  0.000000E+00 |             f\n",
      "    18 |      360 |      3 |  0.000000E+00 |             f\n",
      "    19 |      380 |      3 |  0.000000E+00 |             f\n",
      "    20 |      400 |      3 |  0.000000E+00 |             f\n",
      "X (n_cnn, n_lstm, n_entrada):\n",
      "\n",
      "[[18 31  4]\n",
      " [30 31 30]\n",
      " [31 29  5]]\n",
      "\n",
      "NDS:\n",
      "\n",
      "[[4.60243830e-03 4.00000000e+00]\n",
      " [5.29824407e-04 3.00000000e+01]\n",
      " [6.73558330e-04 5.00000000e+00]]\n",
      "\n",
      "\n",
      "\n"
     ]
    },
    {
     "data": {
      "image/png": "[encoded data removed]",
      "text/plain": [
       "<Figure size 900x400 with 1 Axes>"
      ]
     },
     "metadata": {},
     "output_type": "display_data"
    }
   ],
   "source": [
    "ps = 20\n",
    "problem = targetProblem()\n",
    "algorithm = NSGA2(\n",
    "    pop_size=ps,\n",
    "    sampling=IntegerRandomSampling(),\n",
    "    crossover=SBX(prob=0.7, eta=20, vtype=float, repair=RoundingRepair()),\n",
    "    mutation=PolynomialMutation(prob=0.2, eta=20, vtype=float, repair=RoundingRepair()),\n",
    "    eliminate_duplicates=True\n",
    ")\n",
    "\n",
    "print('\\n\\nNSGA-II inicializado - tamanho da população: ', ps)\n",
    "res = minimize(problem, algorithm, ('n_gen', 20), verbose=True, save_history=True, seed=6)\n",
    "f1 = res.F[:,0]\n",
    "f2 = res.F[:,1]\n",
    "\n",
    "plt.scatter(f1,f2, s=30, facecolors='none', edgecolors='red', label=(\"População = \" + str(ps)))\n",
    "    \n",
    "print(\"X (n_cnn, n_lstm, n_entrada):\\n\")\n",
    "print(res.X)\n",
    "print(\"\\nNDS:\\n\")\n",
    "print(res.F)\n",
    "print('\\n\\n')\n",
    "plt.title('Soluções não dominadas')\n",
    "plt.xlabel(\"MSE\")\n",
    "plt.ylabel(\"n_entrada\")\n",
    "plt.legend()\n",
    "plt.show()"
   ]
  },
  {
   "cell_type": "markdown",
   "id": "fabe0a4f",
   "metadata": {
    "papermill": {
     "duration": 0.013863,
     "end_time": "2024-02-03T22:29:41.628008",
     "exception": false,
     "start_time": "2024-02-03T22:29:41.614145",
     "status": "completed"
    },
    "tags": []
   },
   "source": [
    "# Visualização"
   ]
  },
  {
   "cell_type": "markdown",
   "id": "4725aa08",
   "metadata": {
    "papermill": {
     "duration": 0.01364,
     "end_time": "2024-02-03T22:29:41.655255",
     "exception": false,
     "start_time": "2024-02-03T22:29:41.641615",
     "status": "completed"
    },
    "tags": []
   },
   "source": [
    "Plot dos resultados ao longo das gerações:"
   ]
  },
  {
   "cell_type": "code",
   "execution_count": 23,
   "id": "73c968ee",
   "metadata": {
    "execution": {
     "iopub.execute_input": "2024-02-03T22:29:41.684305Z",
     "iopub.status.busy": "2024-02-03T22:29:41.683722Z",
     "iopub.status.idle": "2024-02-03T22:29:41.688223Z",
     "shell.execute_reply": "2024-02-03T22:29:41.687350Z"
    },
    "papermill": {
     "duration": 0.020994,
     "end_time": "2024-02-03T22:29:41.690096",
     "exception": false,
     "start_time": "2024-02-03T22:29:41.669102",
     "status": "completed"
    },
    "tags": []
   },
   "outputs": [],
   "source": [
    "all_pop = Population()"
   ]
  },
  {
   "cell_type": "code",
   "execution_count": 24,
   "id": "bd5e9aaa",
   "metadata": {
    "execution": {
     "iopub.execute_input": "2024-02-03T22:29:41.718669Z",
     "iopub.status.busy": "2024-02-03T22:29:41.718403Z",
     "iopub.status.idle": "2024-02-03T22:29:41.727955Z",
     "shell.execute_reply": "2024-02-03T22:29:41.727001Z"
    },
    "papermill": {
     "duration": 0.025927,
     "end_time": "2024-02-03T22:29:41.729761",
     "exception": false,
     "start_time": "2024-02-03T22:29:41.703834",
     "status": "completed"
    },
    "tags": []
   },
   "outputs": [],
   "source": [
    "for algorithm in res.history:\n",
    " all_pop = Population.merge(all_pop, algorithm.off)\n",
    "df_Var = pd.DataFrame(all_pop.get(\"X\"), columns=[f\"X{i+1}\" for i in\n",
    "range(problem.n_var)])\n",
    "df_Res = pd.DataFrame(all_pop.get(\"F\"), columns=[f\"F{i+1}\" for i in\n",
    "range(problem.n_obj)])"
   ]
  },
  {
   "cell_type": "code",
   "execution_count": 25,
   "id": "4c9bc240",
   "metadata": {
    "execution": {
     "iopub.execute_input": "2024-02-03T22:29:41.759010Z",
     "iopub.status.busy": "2024-02-03T22:29:41.758711Z",
     "iopub.status.idle": "2024-02-03T22:29:41.979012Z",
     "shell.execute_reply": "2024-02-03T22:29:41.978091Z"
    },
    "papermill": {
     "duration": 0.237613,
     "end_time": "2024-02-03T22:29:41.981315",
     "exception": false,
     "start_time": "2024-02-03T22:29:41.743702",
     "status": "completed"
    },
    "tags": []
   },
   "outputs": [
    {
     "data": {
      "image/png": "[encoded data removed]",
      "text/plain": [
       "<Figure size 900x400 with 1 Axes>"
      ]
     },
     "metadata": {},
     "output_type": "display_data"
    }
   ],
   "source": [
    "import matplotlib.animation as animation\n",
    "from IPython.display import Image\n",
    "\n",
    "df_Res['Modulo_F2'] = np.sqrt(df_Res['F2'] ** 2)\n",
    "\n",
    "fig, ax = plt.subplots()\n",
    "scatter = ax.scatter([], [], animated=True)\n",
    "ax.set_xlim(df_Res['F1'].min(), df_Res['F1'].max())\n",
    "ax.set_ylim(df_Res['Modulo_F2'].min(), df_Res['Modulo_F2'].max())\n",
    "ax.set_xlabel('MSE')\n",
    "ax.set_ylabel('n_entrada')\n",
    "\n",
    "frame_counter = ax.text(0.5, 0.95, '', ha='center', va='center', transform=ax.transAxes)\n",
    "\n",
    "def update(frame):\n",
    "    start_index = frame * ps\n",
    "    end_index = start_index + ps\n",
    "    data = df_Res.iloc[start_index:end_index]\n",
    "    scatter.set_offsets(data[['F1', 'Modulo_F2']])\n",
    "\n",
    "    frame_counter.set_text(f'Geração: {frame + 1}')\n",
    "\n",
    "    return scatter, frame_counter\n",
    "\n",
    "total_frames = len(df_Res) // ps\n",
    "ani = animation.FuncAnimation(fig, update, frames=total_frames, interval=600, blit=True)\n",
    "\n",
    "plt.show()"
   ]
  },
  {
   "cell_type": "code",
   "execution_count": 26,
   "id": "0ed49792",
   "metadata": {
    "execution": {
     "iopub.execute_input": "2024-02-03T22:29:42.011520Z",
     "iopub.status.busy": "2024-02-03T22:29:42.011225Z",
     "iopub.status.idle": "2024-02-03T22:29:43.466478Z",
     "shell.execute_reply": "2024-02-03T22:29:43.465575Z"
    },
    "papermill": {
     "duration": 1.473476,
     "end_time": "2024-02-03T22:29:43.469506",
     "exception": false,
     "start_time": "2024-02-03T22:29:41.996030",
     "status": "completed"
    },
    "tags": []
   },
   "outputs": [
    {
     "data": {
      "image/png": "[encoded data removed]",
      "text/plain": [
       "<IPython.core.display.Image object>"
      ]
     },
     "execution_count": 26,
     "metadata": {},
     "output_type": "execute_result"
    }
   ],
   "source": [
    "writer = animation.PillowWriter(fps=1, bitrate=1800)\n",
    "ani.save('scatter.gif', writer=writer)\n",
    "Image(open('scatter.gif','rb').read())"
   ]
  },
  {
   "cell_type": "code",
   "execution_count": 27,
   "id": "a1dc36e2",
   "metadata": {
    "execution": {
     "iopub.execute_input": "2024-02-03T22:29:43.502948Z",
     "iopub.status.busy": "2024-02-03T22:29:43.502626Z",
     "iopub.status.idle": "2024-02-03T22:29:43.507492Z",
     "shell.execute_reply": "2024-02-03T22:29:43.506527Z"
    },
    "papermill": {
     "duration": 0.023721,
     "end_time": "2024-02-03T22:29:43.509397",
     "exception": false,
     "start_time": "2024-02-03T22:29:43.485676",
     "status": "completed"
    },
    "tags": []
   },
   "outputs": [
    {
     "name": "stdout",
     "output_type": "stream",
     "text": [
      "Tempo de execução total: 3559.4609961509705 segundos \n"
     ]
    }
   ],
   "source": [
    "print(\"Tempo de execução total: %s segundos \" % (time.time() - start_time))"
   ]
  }
 ],
 "metadata": {
  "kaggle": {
   "accelerator": "gpu",
   "dataSources": [],
   "dockerImageVersionId": 30648,
   "isGpuEnabled": true,
   "isInternetEnabled": true,
   "language": "python",
   "sourceType": "notebook"
  },
  "kernelspec": {
   "display_name": "Python 3",
   "language": "python",
   "name": "python3"
  },
  "language_info": {
   "codemirror_mode": {
    "name": "ipython",
    "version": 3
   },
   "file_extension": ".py",
   "mimetype": "text/x-python",
   "name": "python",
   "nbconvert_exporter": "python",
   "pygments_lexer": "ipython3",
   "version": "3.10.13"
  },
  "papermill": {
   "default_parameters": {},
   "duration": 3598.548922,
   "end_time": "2024-02-03T22:29:47.053929",
   "environment_variables": {},
   "exception": null,
   "input_path": "__notebook__.ipynb",
   "output_path": "__notebook__.ipynb",
   "parameters": {},
   "start_time": "2024-02-03T21:29:48.505007",
   "version": "2.5.0"
  }
 },
 "nbformat": 4,
 "nbformat_minor": 5
}
