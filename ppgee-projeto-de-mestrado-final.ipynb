{
 "cells": [
  {
   "cell_type": "markdown",
   "id": "c35e5955",
   "metadata": {
    "papermill": {
     "duration": 0.011449,
     "end_time": "2024-02-07T04:12:20.433149",
     "exception": false,
     "start_time": "2024-02-07T04:12:20.421700",
     "status": "completed"
    },
    "tags": []
   },
   "source": [
    "# Inicialização"
   ]
  },
  {
   "cell_type": "markdown",
   "id": "db100c73",
   "metadata": {
    "papermill": {
     "duration": 0.010434,
     "end_time": "2024-02-07T04:12:20.454648",
     "exception": false,
     "start_time": "2024-02-07T04:12:20.444214",
     "status": "completed"
    },
    "tags": []
   },
   "source": [
    "Resgistro do tempo de execução:"
   ]
  },
  {
   "cell_type": "code",
   "execution_count": 1,
   "id": "3b969f43",
   "metadata": {
    "execution": {
     "iopub.execute_input": "2024-02-07T04:12:20.477012Z",
     "iopub.status.busy": "2024-02-07T04:12:20.476711Z",
     "iopub.status.idle": "2024-02-07T04:12:20.487087Z",
     "shell.execute_reply": "2024-02-07T04:12:20.486239Z"
    },
    "papermill": {
     "duration": 0.02386,
     "end_time": "2024-02-07T04:12:20.489139",
     "exception": false,
     "start_time": "2024-02-07T04:12:20.465279",
     "status": "completed"
    },
    "tags": []
   },
   "outputs": [],
   "source": [
    "import time\n",
    "start_time = time.time()"
   ]
  },
  {
   "cell_type": "markdown",
   "id": "c8064320",
   "metadata": {
    "papermill": {
     "duration": 0.011596,
     "end_time": "2024-02-07T04:12:20.511427",
     "exception": false,
     "start_time": "2024-02-07T04:12:20.499831",
     "status": "completed"
    },
    "tags": []
   },
   "source": [
    "Instalação da biblioteca para NSGA-II:"
   ]
  },
  {
   "cell_type": "code",
   "execution_count": 2,
   "id": "0e8613e1",
   "metadata": {
    "execution": {
     "iopub.execute_input": "2024-02-07T04:12:20.534197Z",
     "iopub.status.busy": "2024-02-07T04:12:20.533897Z",
     "iopub.status.idle": "2024-02-07T04:12:37.534024Z",
     "shell.execute_reply": "2024-02-07T04:12:37.532850Z"
    },
    "papermill": {
     "duration": 17.014223,
     "end_time": "2024-02-07T04:12:37.536634",
     "exception": false,
     "start_time": "2024-02-07T04:12:20.522411",
     "status": "completed"
    },
    "tags": []
   },
   "outputs": [],
   "source": [
    "!pip install -q pymoo"
   ]
  },
  {
   "cell_type": "markdown",
   "id": "92b6b745",
   "metadata": {
    "papermill": {
     "duration": 0.010558,
     "end_time": "2024-02-07T04:12:37.558424",
     "exception": false,
     "start_time": "2024-02-07T04:12:37.547866",
     "status": "completed"
    },
    "tags": []
   },
   "source": [
    "Inicialização das bibliotecas utilizadas:"
   ]
  },
  {
   "cell_type": "code",
   "execution_count": 3,
   "id": "341f6b7a",
   "metadata": {
    "execution": {
     "iopub.execute_input": "2024-02-07T04:12:37.581666Z",
     "iopub.status.busy": "2024-02-07T04:12:37.581347Z",
     "iopub.status.idle": "2024-02-07T04:12:38.290136Z",
     "shell.execute_reply": "2024-02-07T04:12:38.289326Z"
    },
    "papermill": {
     "duration": 0.723305,
     "end_time": "2024-02-07T04:12:38.292390",
     "exception": false,
     "start_time": "2024-02-07T04:12:37.569085",
     "status": "completed"
    },
    "tags": []
   },
   "outputs": [],
   "source": [
    "import numpy as np\n",
    "import pandas as pd\n",
    "import matplotlib.pyplot as plt"
   ]
  },
  {
   "cell_type": "markdown",
   "id": "85d459c3",
   "metadata": {
    "papermill": {
     "duration": 0.01058,
     "end_time": "2024-02-07T04:12:38.313951",
     "exception": false,
     "start_time": "2024-02-07T04:12:38.303371",
     "status": "completed"
    },
    "tags": []
   },
   "source": [
    "Bibliotecas para as redes Deep Learning:"
   ]
  },
  {
   "cell_type": "code",
   "execution_count": 4,
   "id": "50497614",
   "metadata": {
    "execution": {
     "iopub.execute_input": "2024-02-07T04:12:38.336591Z",
     "iopub.status.busy": "2024-02-07T04:12:38.336211Z",
     "iopub.status.idle": "2024-02-07T04:12:51.482277Z",
     "shell.execute_reply": "2024-02-07T04:12:51.481269Z"
    },
    "papermill": {
     "duration": 13.159984,
     "end_time": "2024-02-07T04:12:51.484574",
     "exception": false,
     "start_time": "2024-02-07T04:12:38.324590",
     "status": "completed"
    },
    "tags": []
   },
   "outputs": [
    {
     "name": "stderr",
     "output_type": "stream",
     "text": [
      "2024-02-07 04:12:40.095609: E external/local_xla/xla/stream_executor/cuda/cuda_dnn.cc:9261] Unable to register cuDNN factory: Attempting to register factory for plugin cuDNN when one has already been registered\n",
      "2024-02-07 04:12:40.095723: E external/local_xla/xla/stream_executor/cuda/cuda_fft.cc:607] Unable to register cuFFT factory: Attempting to register factory for plugin cuFFT when one has already been registered\n",
      "2024-02-07 04:12:40.223346: E external/local_xla/xla/stream_executor/cuda/cuda_blas.cc:1515] Unable to register cuBLAS factory: Attempting to register factory for plugin cuBLAS when one has already been registered\n"
     ]
    }
   ],
   "source": [
    "import tensorflow as tf\n",
    "from tensorflow import keras\n",
    "from keras import layers\n",
    "from keras import models\n",
    "from keras import backend\n",
    "from tensorflow.keras.utils import plot_model\n",
    "from sklearn.model_selection import train_test_split\n",
    "\n",
    "keras.utils.set_random_seed(6)"
   ]
  },
  {
   "cell_type": "markdown",
   "id": "3cf2684b",
   "metadata": {
    "papermill": {
     "duration": 0.010517,
     "end_time": "2024-02-07T04:12:51.506330",
     "exception": false,
     "start_time": "2024-02-07T04:12:51.495813",
     "status": "completed"
    },
    "tags": []
   },
   "source": [
    "Inicialização do NSGA-II:"
   ]
  },
  {
   "cell_type": "code",
   "execution_count": 5,
   "id": "a78176b6",
   "metadata": {
    "execution": {
     "iopub.execute_input": "2024-02-07T04:12:51.529152Z",
     "iopub.status.busy": "2024-02-07T04:12:51.528609Z",
     "iopub.status.idle": "2024-02-07T04:12:52.281053Z",
     "shell.execute_reply": "2024-02-07T04:12:52.280341Z"
    },
    "papermill": {
     "duration": 0.766111,
     "end_time": "2024-02-07T04:12:52.283136",
     "exception": false,
     "start_time": "2024-02-07T04:12:51.517025",
     "status": "completed"
    },
    "tags": []
   },
   "outputs": [
    {
     "name": "stderr",
     "output_type": "stream",
     "text": [
      "2024-02-07 04:12:52,249\tINFO util.py:124 -- Outdated packages:\n",
      "  ipywidgets==7.7.1 found, needs ipywidgets>=8\n",
      "Run `pip install -U ipywidgets`, then restart the notebook server for rich notebook output.\n"
     ]
    }
   ],
   "source": [
    "from pymoo.core.problem import Problem\n",
    "from pymoo.algorithms.moo.nsga2 import NSGA2\n",
    "from pymoo.optimize import minimize\n",
    "from pymoo.operators.mutation.pm import PolynomialMutation\n",
    "from pymoo.operators.crossover.sbx import  SBX\n",
    "from pymoo.operators.repair.rounding import RoundingRepair\n",
    "from pymoo.operators.sampling.rnd import IntegerRandomSampling\n",
    "from pymoo.core.population import Population"
   ]
  },
  {
   "cell_type": "markdown",
   "id": "e4563eec",
   "metadata": {
    "papermill": {
     "duration": 0.010828,
     "end_time": "2024-02-07T04:12:52.305179",
     "exception": false,
     "start_time": "2024-02-07T04:12:52.294351",
     "status": "completed"
    },
    "tags": []
   },
   "source": [
    "Carregamento dos datasets:"
   ]
  },
  {
   "cell_type": "code",
   "execution_count": 6,
   "id": "98a0ceb4",
   "metadata": {
    "execution": {
     "iopub.execute_input": "2024-02-07T04:12:52.328157Z",
     "iopub.status.busy": "2024-02-07T04:12:52.327834Z",
     "iopub.status.idle": "2024-02-07T04:12:52.674783Z",
     "shell.execute_reply": "2024-02-07T04:12:52.673779Z"
    },
    "papermill": {
     "duration": 0.361115,
     "end_time": "2024-02-07T04:12:52.677114",
     "exception": false,
     "start_time": "2024-02-07T04:12:52.315999",
     "status": "completed"
    },
    "tags": []
   },
   "outputs": [],
   "source": [
    "data1 = pd.read_csv('https://raw.githubusercontent.com/WCosmo/PPGEE-Projeto-de-mestrado/main/base_de_dados/thingspeak_canal_01.csv')\n",
    "data2 = pd.read_csv('https://raw.githubusercontent.com/WCosmo/PPGEE-Projeto-de-mestrado/main/base_de_dados/thingspeak_canal_02.csv')\n",
    "data3 = pd.read_csv('https://raw.githubusercontent.com/WCosmo/PPGEE-Projeto-de-mestrado/main/base_de_dados/thingspeak_canal_03.csv')"
   ]
  },
  {
   "cell_type": "markdown",
   "id": "5190a9ed",
   "metadata": {
    "papermill": {
     "duration": 0.010955,
     "end_time": "2024-02-07T04:12:52.699389",
     "exception": false,
     "start_time": "2024-02-07T04:12:52.688434",
     "status": "completed"
    },
    "tags": []
   },
   "source": [
    "# Pré processamento dos dados"
   ]
  },
  {
   "cell_type": "markdown",
   "id": "b7dd049c",
   "metadata": {
    "papermill": {
     "duration": 0.010655,
     "end_time": "2024-02-07T04:12:52.721378",
     "exception": false,
     "start_time": "2024-02-07T04:12:52.710723",
     "status": "completed"
    },
    "tags": []
   },
   "source": [
    "Cada curva de descarga está associada a uma \"tag\" na API da Thingspeak, a seguir divide-se os dados separando as curvas em vetores:"
   ]
  },
  {
   "cell_type": "code",
   "execution_count": 7,
   "id": "5dcf287c",
   "metadata": {
    "execution": {
     "iopub.execute_input": "2024-02-07T04:12:52.754486Z",
     "iopub.status.busy": "2024-02-07T04:12:52.754088Z",
     "iopub.status.idle": "2024-02-07T04:12:53.669824Z",
     "shell.execute_reply": "2024-02-07T04:12:53.669042Z"
    },
    "papermill": {
     "duration": 0.930912,
     "end_time": "2024-02-07T04:12:53.672000",
     "exception": false,
     "start_time": "2024-02-07T04:12:52.741088",
     "status": "completed"
    },
    "tags": []
   },
   "outputs": [],
   "source": [
    "timestamp_e1 = []\n",
    "timestamp_e2 = []\n",
    "timestamp_e3 = []\n",
    "timestamp_e4 = []\n",
    "timestamp_e5 = []\n",
    "\n",
    "d_curve_e1 = []\n",
    "d_curve_e2 = []\n",
    "d_curve_e3 = []\n",
    "d_curve_e4 = []\n",
    "d_curve_e5 = []\n",
    "\n",
    "for i in range(len(data2['field1'].to_numpy())):\n",
    "  if data2['field2'].to_numpy()[i] < 3.7 and data2['field2'].to_numpy()[i] > 2.70 :\n",
    "    if data2['field1'].to_numpy()[i] == 1: #Retornar apenas o experimento 1\n",
    "      timestamp_e1.append(data2['created_at'][i])\n",
    "      d_curve_e1.append(data2['field2'].to_numpy()[i])\n",
    "    if data2['field1'].to_numpy()[i] == 2: #Retornar apenas o experimento 3\n",
    "      timestamp_e3.append(data2['created_at'][i])\n",
    "      d_curve_e3.append(data2['field2'].to_numpy()[i])\n",
    "\n",
    "for i in range(len(data1['field1'].to_numpy())):\n",
    "  if data1['field2'].to_numpy()[i] < 3.7 and data1['field2'].to_numpy()[i] > 2.70 :\n",
    "    if data1['field1'].to_numpy()[i] == 2: #Retornar apenas o experimento 2\n",
    "      timestamp_e2.append(data1['created_at'][i])\n",
    "      d_curve_e2.append(data1['field2'].to_numpy()[i])\n",
    "\n",
    "for i in range(len(data3['field1'].to_numpy())):\n",
    "  if data3['field2'].to_numpy()[i] < 3.7 and data3['field2'].to_numpy()[i] > 2.70 :\n",
    "    if data3['field1'].to_numpy()[i] == 0: #Retornar apenas o experimento 4\n",
    "      timestamp_e4.append(data3['created_at'][i])\n",
    "      d_curve_e4.append(data3['field2'].to_numpy()[i])\n",
    "    if data3['field1'].to_numpy()[i] == 1: #Retornar apenas o experimento 5\n",
    "      timestamp_e5.append(data3['created_at'][i])\n",
    "      d_curve_e5.append(data3['field2'].to_numpy()[i])\n",
    "        \n",
    "d_curve_e1 = np.array(d_curve_e1)\n",
    "d_curve_e2 = np.array(d_curve_e2)\n",
    "d_curve_e3 = np.array(d_curve_e3[2:])\n",
    "d_curve_e4 = np.array(d_curve_e4)\n",
    "d_curve_e5 = np.array(d_curve_e5)"
   ]
  },
  {
   "cell_type": "markdown",
   "id": "e207a988",
   "metadata": {
    "papermill": {
     "duration": 0.010807,
     "end_time": "2024-02-07T04:12:53.694111",
     "exception": false,
     "start_time": "2024-02-07T04:12:53.683304",
     "status": "completed"
    },
    "tags": []
   },
   "source": [
    "Função para transformar o timestamp no formato \"yyyy/mm/dd-hh:mm:ss\" para apenas segundo, que é a menor unidade de tempo presente no timestamp:"
   ]
  },
  {
   "cell_type": "code",
   "execution_count": 8,
   "id": "408e09d3",
   "metadata": {
    "execution": {
     "iopub.execute_input": "2024-02-07T04:12:53.717508Z",
     "iopub.status.busy": "2024-02-07T04:12:53.716920Z",
     "iopub.status.idle": "2024-02-07T04:12:53.724052Z",
     "shell.execute_reply": "2024-02-07T04:12:53.723228Z"
    },
    "papermill": {
     "duration": 0.020898,
     "end_time": "2024-02-07T04:12:53.725948",
     "exception": false,
     "start_time": "2024-02-07T04:12:53.705050",
     "status": "completed"
    },
    "tags": []
   },
   "outputs": [],
   "source": [
    "def timestamper(timestamp):\n",
    "\n",
    "  ft = 0\n",
    "  ii = 0\n",
    "  timescale = []\n",
    "\n",
    "  for t in timestamp:\n",
    "    sbuff = t.split('T')\n",
    "    s_ymd = sbuff[0].split('-')\n",
    "    ymd = int(s_ymd[0])*31536000 + int(s_ymd[1])*2592000 + int(s_ymd[2])*86400 #converter yyyy/mm/dd para s\n",
    "\n",
    "    bs_hr = sbuff[1].split('-')\n",
    "    s_hr = bs_hr[0].split(':')\n",
    "    hr = int(s_hr[0])*3600 + int(s_hr[1])*60 + int(s_hr[2]) #converter hh:mm:ss para s\n",
    "\n",
    "    ts = ymd + hr\n",
    "    timescale.append(ts)\n",
    "\n",
    "\n",
    "  timescale = np.array(timescale)\n",
    "  return timescale - min(timescale)"
   ]
  },
  {
   "cell_type": "code",
   "execution_count": 9,
   "id": "ad2cb912",
   "metadata": {
    "execution": {
     "iopub.execute_input": "2024-02-07T04:12:53.748831Z",
     "iopub.status.busy": "2024-02-07T04:12:53.748554Z",
     "iopub.status.idle": "2024-02-07T04:12:53.793499Z",
     "shell.execute_reply": "2024-02-07T04:12:53.792832Z"
    },
    "papermill": {
     "duration": 0.058408,
     "end_time": "2024-02-07T04:12:53.795391",
     "exception": false,
     "start_time": "2024-02-07T04:12:53.736983",
     "status": "completed"
    },
    "tags": []
   },
   "outputs": [],
   "source": [
    "t_e1 = timestamper(timestamp_e1[:])\n",
    "t_e2 = timestamper(timestamp_e2[:])\n",
    "t_e3 = timestamper(timestamp_e3[2:])\n",
    "t_e4 = timestamper(timestamp_e4[:])\n",
    "t_e5 = timestamper(timestamp_e5[:])"
   ]
  },
  {
   "cell_type": "markdown",
   "id": "7b3b7746",
   "metadata": {
    "papermill": {
     "duration": 0.010618,
     "end_time": "2024-02-07T04:12:53.816996",
     "exception": false,
     "start_time": "2024-02-07T04:12:53.806378",
     "status": "completed"
    },
    "tags": []
   },
   "source": [
    "Plot das curvas de descarga com a escala de tempo correspondente:"
   ]
  },
  {
   "cell_type": "code",
   "execution_count": 10,
   "id": "336da060",
   "metadata": {
    "execution": {
     "iopub.execute_input": "2024-02-07T04:12:53.840014Z",
     "iopub.status.busy": "2024-02-07T04:12:53.839733Z",
     "iopub.status.idle": "2024-02-07T04:12:54.075622Z",
     "shell.execute_reply": "2024-02-07T04:12:54.074797Z"
    },
    "papermill": {
     "duration": 0.249748,
     "end_time": "2024-02-07T04:12:54.077796",
     "exception": false,
     "start_time": "2024-02-07T04:12:53.828048",
     "status": "completed"
    },
    "tags": []
   },
   "outputs": [
    {
     "data": {
      "image/png": "[encoded data removed]",
      "text/plain": [
       "<Figure size 900x400 with 1 Axes>"
      ]
     },
     "metadata": {},
     "output_type": "display_data"
    }
   ],
   "source": [
    "plt.rcParams['figure.figsize'] = (9, 4)\n",
    "plt.plot(t_e1/(60*60),d_curve_e1, ls = ':', label='Descarga A')#DS18B20\n",
    "plt.plot(t_e2/(60*60),d_curve_e2, ls = ':', label='Descarga B')#DS18B20 e Voltímetro\n",
    "plt.plot(t_e4/(60*60),d_curve_e4, ls = ':', label='Descarga C')#Termopar I2C\n",
    "plt.plot(t_e3/(60*60),d_curve_e3, ls = ':', label='Descarga D')#Voltímetro\n",
    "plt.plot(t_e5/(60*60),d_curve_e5, ls = '--', label='Descarga E')#Termopar I2C e INA219\n",
    "\n",
    "plt.legend(loc='lower left')\n",
    "#plt.title('Curvas de Descarga')\n",
    "plt.xlabel('Tempo (h)')\n",
    "plt.ylabel('Tensão (V)')\n",
    "plt.show()"
   ]
  },
  {
   "cell_type": "markdown",
   "id": "b2944023",
   "metadata": {
    "papermill": {
     "duration": 0.011666,
     "end_time": "2024-02-07T04:12:54.101483",
     "exception": false,
     "start_time": "2024-02-07T04:12:54.089817",
     "status": "completed"
    },
    "tags": []
   },
   "source": [
    "Função que gera instâncias a partir de um número de pontos (tamantnho do segmento observado):"
   ]
  },
  {
   "cell_type": "code",
   "execution_count": 11,
   "id": "036ba29f",
   "metadata": {
    "execution": {
     "iopub.execute_input": "2024-02-07T04:12:54.126355Z",
     "iopub.status.busy": "2024-02-07T04:12:54.126036Z",
     "iopub.status.idle": "2024-02-07T04:12:54.131871Z",
     "shell.execute_reply": "2024-02-07T04:12:54.131031Z"
    },
    "papermill": {
     "duration": 0.020383,
     "end_time": "2024-02-07T04:12:54.133694",
     "exception": false,
     "start_time": "2024-02-07T04:12:54.113311",
     "status": "completed"
    },
    "tags": []
   },
   "outputs": [],
   "source": [
    "def gen_dataset(curve, ts, pn):\n",
    "  ll = len(curve)\n",
    "\n",
    "  X = np.zeros((ll-pn, pn))\n",
    "  Y = np.zeros(ll-pn)\n",
    "\n",
    "  for i in range(ll-pn):\n",
    "    for j in range(pn):\n",
    "      X[i][pn-j-1] = curve[pn+i-j-1]\n",
    "\n",
    "\n",
    "  Y = ts[pn:]\n",
    "  Y = max(Y) - Y\n",
    "\n",
    "  return (X,Y)"
   ]
  },
  {
   "cell_type": "markdown",
   "id": "0074c0b3",
   "metadata": {
    "papermill": {
     "duration": 0.011756,
     "end_time": "2024-02-07T04:12:54.157306",
     "exception": false,
     "start_time": "2024-02-07T04:12:54.145550",
     "status": "completed"
    },
    "tags": []
   },
   "source": [
    "Outras funções pertinentes (normalização, reescalagem)"
   ]
  },
  {
   "cell_type": "code",
   "execution_count": 12,
   "id": "3ce4393a",
   "metadata": {
    "execution": {
     "iopub.execute_input": "2024-02-07T04:12:54.182003Z",
     "iopub.status.busy": "2024-02-07T04:12:54.181725Z",
     "iopub.status.idle": "2024-02-07T04:12:54.185745Z",
     "shell.execute_reply": "2024-02-07T04:12:54.184924Z"
    },
    "papermill": {
     "duration": 0.018383,
     "end_time": "2024-02-07T04:12:54.187513",
     "exception": false,
     "start_time": "2024-02-07T04:12:54.169130",
     "status": "completed"
    },
    "tags": []
   },
   "outputs": [],
   "source": [
    "def norm(v, mi, ma):\n",
    "  n_v = (v-mi)/(ma-mi)\n",
    "\n",
    "  return n_v"
   ]
  },
  {
   "cell_type": "code",
   "execution_count": 13,
   "id": "437cf6f0",
   "metadata": {
    "execution": {
     "iopub.execute_input": "2024-02-07T04:12:54.212494Z",
     "iopub.status.busy": "2024-02-07T04:12:54.212226Z",
     "iopub.status.idle": "2024-02-07T04:12:54.216205Z",
     "shell.execute_reply": "2024-02-07T04:12:54.215399Z"
    },
    "papermill": {
     "duration": 0.018542,
     "end_time": "2024-02-07T04:12:54.218136",
     "exception": false,
     "start_time": "2024-02-07T04:12:54.199594",
     "status": "completed"
    },
    "tags": []
   },
   "outputs": [],
   "source": [
    "def de_norm(n_v, mi, ma):\n",
    "  v = ((n_v)*(ma-mi))+mi\n",
    "\n",
    "  return v"
   ]
  },
  {
   "cell_type": "markdown",
   "id": "8992cb0d",
   "metadata": {
    "papermill": {
     "duration": 0.011811,
     "end_time": "2024-02-07T04:12:54.241820",
     "exception": false,
     "start_time": "2024-02-07T04:12:54.230009",
     "status": "completed"
    },
    "tags": []
   },
   "source": [
    "Limiares da normalização dos dados:"
   ]
  },
  {
   "cell_type": "code",
   "execution_count": 14,
   "id": "3154b8da",
   "metadata": {
    "execution": {
     "iopub.execute_input": "2024-02-07T04:12:54.268090Z",
     "iopub.status.busy": "2024-02-07T04:12:54.267815Z",
     "iopub.status.idle": "2024-02-07T04:12:54.277912Z",
     "shell.execute_reply": "2024-02-07T04:12:54.276907Z"
    },
    "papermill": {
     "duration": 0.024822,
     "end_time": "2024-02-07T04:12:54.279831",
     "exception": false,
     "start_time": "2024-02-07T04:12:54.255009",
     "status": "completed"
    },
    "tags": []
   },
   "outputs": [
    {
     "name": "stdout",
     "output_type": "stream",
     "text": [
      "Limite mínimo da tensão para normalização:  2700.0 mV\n",
      "Limite máximo da tensão para normalização:  3700.0 mV\n",
      "\n",
      "Limite mínimo do tempo para normalização:  0 s\n",
      "Limite máximo do tempo para normalização:  258393 s\n"
     ]
    }
   ],
   "source": [
    "X_min = 2.70 \n",
    "X_max = 3.70 \n",
    "\n",
    "print('Limite mínimo da tensão para normalização: ', X_min * 1000, 'mV')\n",
    "print('Limite máximo da tensão para normalização: ', X_max * 1000, 'mV')\n",
    "\n",
    "Y_min = min(np.concatenate((t_e1,t_e2,t_e3,t_e4,t_e5)))\n",
    "Y_max = max(np.concatenate((t_e1,t_e2,t_e3,t_e4,t_e5)))\n",
    "\n",
    "print('\\nLimite mínimo do tempo para normalização: ', Y_min, 's')\n",
    "print('Limite máximo do tempo para normalização: ', Y_max, 's')"
   ]
  },
  {
   "cell_type": "markdown",
   "id": "802faed1",
   "metadata": {
    "papermill": {
     "duration": 0.011827,
     "end_time": "2024-02-07T04:12:54.303680",
     "exception": false,
     "start_time": "2024-02-07T04:12:54.291853",
     "status": "completed"
    },
    "tags": []
   },
   "source": [
    "Número de épocas de treinamento do modelo:"
   ]
  },
  {
   "cell_type": "code",
   "execution_count": 15,
   "id": "439881d6",
   "metadata": {
    "execution": {
     "iopub.execute_input": "2024-02-07T04:12:54.368957Z",
     "iopub.status.busy": "2024-02-07T04:12:54.368338Z",
     "iopub.status.idle": "2024-02-07T04:12:54.372549Z",
     "shell.execute_reply": "2024-02-07T04:12:54.371646Z"
    },
    "papermill": {
     "duration": 0.058717,
     "end_time": "2024-02-07T04:12:54.374429",
     "exception": false,
     "start_time": "2024-02-07T04:12:54.315712",
     "status": "completed"
    },
    "tags": []
   },
   "outputs": [],
   "source": [
    "ep = 10"
   ]
  },
  {
   "cell_type": "markdown",
   "id": "eb835281",
   "metadata": {
    "papermill": {
     "duration": 0.012122,
     "end_time": "2024-02-07T04:12:54.398961",
     "exception": false,
     "start_time": "2024-02-07T04:12:54.386839",
     "status": "completed"
    },
    "tags": []
   },
   "source": [
    "# Implementação da Otimização Multiobjetivo"
   ]
  },
  {
   "cell_type": "markdown",
   "id": "d35060c4",
   "metadata": {
    "papermill": {
     "duration": 0.01216,
     "end_time": "2024-02-07T04:12:54.423417",
     "exception": false,
     "start_time": "2024-02-07T04:12:54.411257",
     "status": "completed"
    },
    "tags": []
   },
   "source": [
    "Inicialização do ambiente GPU:"
   ]
  },
  {
   "cell_type": "code",
   "execution_count": 16,
   "id": "6af12785",
   "metadata": {
    "execution": {
     "iopub.execute_input": "2024-02-07T04:12:54.449177Z",
     "iopub.status.busy": "2024-02-07T04:12:54.448860Z",
     "iopub.status.idle": "2024-02-07T04:12:54.682763Z",
     "shell.execute_reply": "2024-02-07T04:12:54.681839Z"
    },
    "papermill": {
     "duration": 0.249172,
     "end_time": "2024-02-07T04:12:54.684864",
     "exception": false,
     "start_time": "2024-02-07T04:12:54.435692",
     "status": "completed"
    },
    "tags": []
   },
   "outputs": [
    {
     "name": "stdout",
     "output_type": "stream",
     "text": [
      "N. GPUs Disponíveis:  1\n"
     ]
    }
   ],
   "source": [
    "print(\"N. GPUs Disponíveis: \", len(tf.config.list_physical_devices('GPU')))"
   ]
  },
  {
   "cell_type": "code",
   "execution_count": 17,
   "id": "93cc4eab",
   "metadata": {
    "execution": {
     "iopub.execute_input": "2024-02-07T04:12:54.711375Z",
     "iopub.status.busy": "2024-02-07T04:12:54.710692Z",
     "iopub.status.idle": "2024-02-07T04:12:54.715142Z",
     "shell.execute_reply": "2024-02-07T04:12:54.714282Z"
    },
    "papermill": {
     "duration": 0.019513,
     "end_time": "2024-02-07T04:12:54.716954",
     "exception": false,
     "start_time": "2024-02-07T04:12:54.697441",
     "status": "completed"
    },
    "tags": []
   },
   "outputs": [],
   "source": [
    "physical_devices = tf.config.list_physical_devices('GPU')\n",
    "tf.config.set_visible_devices(physical_devices[0], 'GPU')"
   ]
  },
  {
   "cell_type": "markdown",
   "id": "30fc8738",
   "metadata": {
    "papermill": {
     "duration": 0.012135,
     "end_time": "2024-02-07T04:12:54.741456",
     "exception": false,
     "start_time": "2024-02-07T04:12:54.729321",
     "status": "completed"
    },
    "tags": []
   },
   "source": [
    "Função para geração de Datasets de treino e teste baseados em um dado tamanho da janela de observação (número de neurônios de entrada):"
   ]
  },
  {
   "cell_type": "code",
   "execution_count": 18,
   "id": "a4335c4a",
   "metadata": {
    "execution": {
     "iopub.execute_input": "2024-02-07T04:12:54.767229Z",
     "iopub.status.busy": "2024-02-07T04:12:54.766925Z",
     "iopub.status.idle": "2024-02-07T04:12:54.777923Z",
     "shell.execute_reply": "2024-02-07T04:12:54.777103Z"
    },
    "papermill": {
     "duration": 0.026049,
     "end_time": "2024-02-07T04:12:54.779843",
     "exception": false,
     "start_time": "2024-02-07T04:12:54.753794",
     "status": "completed"
    },
    "tags": []
   },
   "outputs": [],
   "source": [
    "def redmis_dataset(ne):\n",
    "  \n",
    "    d1 = gen_dataset(norm(d_curve_e1, X_min, X_max), norm(t_e1, Y_min, Y_max), ne) #curva de descarga A\n",
    "    d2 = gen_dataset(norm(d_curve_e3, X_min, X_max), norm(t_e3, Y_min, Y_max), ne) #curva de descarga B\n",
    "    d3 = gen_dataset(norm(d_curve_e2, X_min, X_max), norm(t_e2, Y_min, Y_max), ne) #curva de descarga C\n",
    "    d4 = gen_dataset(norm(d_curve_e4, X_min, X_max), norm(t_e4, Y_min, Y_max), ne) #curva de descarga D\n",
    "    d5 = gen_dataset(norm(d_curve_e5, X_min, X_max), norm(t_e5, Y_min, Y_max), ne) #curva de descarga E\n",
    "    \n",
    "    #20% dos dados para validação\n",
    "    d1Xf, d1Xv, d1Yf, d1Yv = train_test_split(d1[0], d1[1], test_size=0.2, random_state=6)\n",
    "    d2Xf, d2Xv, d2Yf, d2Yv = train_test_split(d2[0], d2[1], test_size=0.2, random_state=6)\n",
    "    d3Xf, d3Xv, d3Yf, d3Yv = train_test_split(d3[0], d3[1], test_size=0.2, random_state=6) \n",
    "    d4Xf, d4Xv, d4Yf, d4Yv = train_test_split(d4[0], d4[1], test_size=0.2, random_state=6) \n",
    "    \n",
    "    #Treino: Descargas A, B, C e D (80%)\n",
    "    X_treino = pd.DataFrame(np.concatenate((d1Xf, d2Xf, d3Xf, d4Xf)))\n",
    "    Y_treino = pd.DataFrame(np.concatenate((d1Yf, d2Yf, d3Yf, d4Yf)))\n",
    "    \n",
    "    #Validação: Descargas A, B, C e D (20%)\n",
    "    X_val = pd.DataFrame(np.concatenate((d1Xv, d2Xv, d3Xv, d4Xv)))\n",
    "    Y_val = pd.DataFrame(np.concatenate((d1Yv, d2Yv, d3Yv, d4Yv)))\n",
    "\n",
    "    #Teste: Descargas E\n",
    "    X_teste = pd.DataFrame(d5[0])\n",
    "    Y_teste = pd.DataFrame(d5[1])\n",
    "\n",
    "    return X_treino, Y_treino, X_teste, Y_teste, X_val, Y_val"
   ]
  },
  {
   "cell_type": "markdown",
   "id": "d16e5e9e",
   "metadata": {
    "papermill": {
     "duration": 0.01224,
     "end_time": "2024-02-07T04:12:54.804490",
     "exception": false,
     "start_time": "2024-02-07T04:12:54.792250",
     "status": "completed"
    },
    "tags": []
   },
   "source": [
    "Função para avaliação de um indivíduo. Um indivíduo consiste em um combinação de:\n",
    "\n",
    "- Número de neurônios da camada de entrada (n_entrada)\n",
    "- Número de neurônios na camada CNN (n_cnn)\n",
    "- Número de neurônios da camada LSTM (n_lstm)"
   ]
  },
  {
   "cell_type": "code",
   "execution_count": 19,
   "id": "b4c84cb3",
   "metadata": {
    "execution": {
     "iopub.execute_input": "2024-02-07T04:12:54.830338Z",
     "iopub.status.busy": "2024-02-07T04:12:54.830044Z",
     "iopub.status.idle": "2024-02-07T04:12:54.839038Z",
     "shell.execute_reply": "2024-02-07T04:12:54.838199Z"
    },
    "papermill": {
     "duration": 0.024062,
     "end_time": "2024-02-07T04:12:54.840928",
     "exception": false,
     "start_time": "2024-02-07T04:12:54.816866",
     "status": "completed"
    },
    "tags": []
   },
   "outputs": [],
   "source": [
    "def evaluate_ind(individual):\n",
    "    n_cnn, n_lstm, n_entrada = individual\n",
    "\n",
    "    with tf.device('/GPU:0'):\n",
    "      model = keras.models.Sequential()\n",
    "      model.add(keras.layers.Reshape((n_entrada, 1), input_shape=(n_entrada,)))\n",
    "\n",
    "      #1st layer - CNN\n",
    "      model.add(keras.layers.Conv1D(n_cnn, 3, activation='relu'))\n",
    "      model.add(keras.layers.MaxPooling1D(2))\n",
    "\n",
    "      #2nd layer - LSTM\n",
    "      model.add(keras.layers.Flatten())\n",
    "      model.add(keras.layers.Reshape((int((n_entrada-2)/2), n_cnn)))\n",
    "      model.add(keras.layers.LSTM(n_lstm, activation='tanh'))\n",
    "\n",
    "      #Output layer\n",
    "      model.add(keras.layers.Dense(1, activation='sigmoid'))\n",
    "\n",
    "      model.compile(optimizer='adam', loss=keras.losses.MeanSquaredError(), metrics=['mse'])\n",
    "      Xf, Yf, Xt, Yt, Xv, Yv = redmis_dataset(n_entrada)    \n",
    "      \n",
    "      h = model.fit(Xf, Yf, epochs=ep, batch_size=64, verbose=0, validation_data=(Xv, Yv))\n",
    "\n",
    "      eval_mse = model.evaluate(Xt, Yt, verbose=0) \n",
    "\n",
    "      keras.backend.clear_session()\n",
    "\n",
    "    return eval_mse[1], n_entrada\n"
   ]
  },
  {
   "cell_type": "markdown",
   "id": "83cd791c",
   "metadata": {
    "papermill": {
     "duration": 0.012549,
     "end_time": "2024-02-07T04:12:54.865953",
     "exception": false,
     "start_time": "2024-02-07T04:12:54.853404",
     "status": "completed"
    },
    "tags": []
   },
   "source": [
    "Função para avaliar uma populaçao composta de indivíduos:"
   ]
  },
  {
   "cell_type": "code",
   "execution_count": 20,
   "id": "2976bb51",
   "metadata": {
    "execution": {
     "iopub.execute_input": "2024-02-07T04:12:54.891947Z",
     "iopub.status.busy": "2024-02-07T04:12:54.891673Z",
     "iopub.status.idle": "2024-02-07T04:12:54.896915Z",
     "shell.execute_reply": "2024-02-07T04:12:54.896138Z"
    },
    "papermill": {
     "duration": 0.020359,
     "end_time": "2024-02-07T04:12:54.898786",
     "exception": false,
     "start_time": "2024-02-07T04:12:54.878427",
     "status": "completed"
    },
    "tags": []
   },
   "outputs": [],
   "source": [
    "def evaluate_pop(population):\n",
    "    n_cnn, n_lstm, n_entrada = population\n",
    "\n",
    "    mse_fitness = []\n",
    "    ne_fitness = []\n",
    "    for n in range(len(n_cnn)):\n",
    "        mse, ne = evaluate_ind((n_cnn[n], n_lstm[n], n_entrada[n]))\n",
    "        mse_fitness.append(mse)\n",
    "        ne_fitness.append(ne)\n",
    "\n",
    "    return np.array(mse_fitness), np.array(ne_fitness)"
   ]
  },
  {
   "cell_type": "markdown",
   "id": "2ec97a06",
   "metadata": {
    "papermill": {
     "duration": 0.012257,
     "end_time": "2024-02-07T04:12:54.923550",
     "exception": false,
     "start_time": "2024-02-07T04:12:54.911293",
     "status": "completed"
    },
    "tags": []
   },
   "source": [
    "Definição da classe do problema a ser otimizado:"
   ]
  },
  {
   "cell_type": "code",
   "execution_count": 21,
   "id": "e3279862",
   "metadata": {
    "execution": {
     "iopub.execute_input": "2024-02-07T04:12:54.949675Z",
     "iopub.status.busy": "2024-02-07T04:12:54.949407Z",
     "iopub.status.idle": "2024-02-07T04:12:54.955565Z",
     "shell.execute_reply": "2024-02-07T04:12:54.954819Z"
    },
    "papermill": {
     "duration": 0.021437,
     "end_time": "2024-02-07T04:12:54.957431",
     "exception": false,
     "start_time": "2024-02-07T04:12:54.935994",
     "status": "completed"
    },
    "tags": []
   },
   "outputs": [],
   "source": [
    "class targetProblem(Problem):\n",
    "    def __init__(self):\n",
    "      super().__init__(n_var=3, n_obj=2, n_constr=0, xl=[6, 6, 4], xu=[32, 32, 32], vtype=int)\n",
    "\n",
    "    def _evaluate(self, x, out, *args, **kwargs):\n",
    "        n_cnn = x[:,0]\n",
    "        n_lstm = x[:,1]\n",
    "        n_entrada = x[:,2]\n",
    "\n",
    "        mse, _ = evaluate_pop((n_cnn, n_lstm, n_entrada))\n",
    "        out[\"F\"] = [mse, n_entrada]"
   ]
  },
  {
   "cell_type": "markdown",
   "id": "a4b12e07",
   "metadata": {
    "papermill": {
     "duration": 0.012434,
     "end_time": "2024-02-07T04:12:54.982407",
     "exception": false,
     "start_time": "2024-02-07T04:12:54.969973",
     "status": "completed"
    },
    "tags": []
   },
   "source": [
    "Implementação do algoritmo NSGA2 no problema definido:"
   ]
  },
  {
   "cell_type": "code",
   "execution_count": 22,
   "id": "3dc56f6e",
   "metadata": {
    "execution": {
     "iopub.execute_input": "2024-02-07T04:12:55.008844Z",
     "iopub.status.busy": "2024-02-07T04:12:55.008572Z",
     "iopub.status.idle": "2024-02-07T05:12:13.122974Z",
     "shell.execute_reply": "2024-02-07T05:12:13.121982Z"
    },
    "papermill": {
     "duration": 3558.145084,
     "end_time": "2024-02-07T05:12:13.140142",
     "exception": false,
     "start_time": "2024-02-07T04:12:54.995058",
     "status": "completed"
    },
    "tags": []
   },
   "outputs": [
    {
     "name": "stdout",
     "output_type": "stream",
     "text": [
      "\n",
      "\n",
      "NSGA-II inicializado - tamanho da população:  20\n"
     ]
    },
    {
     "name": "stderr",
     "output_type": "stream",
     "text": [
      "WARNING: All log messages before absl::InitializeLog() is called are written to STDERR\n",
      "I0000 00:00:1707279179.736571      80 device_compiler.h:186] Compiled cluster using XLA!  This line is logged at most once for the lifetime of the process.\n"
     ]
    },
    {
     "name": "stdout",
     "output_type": "stream",
     "text": [
      "==========================================================\n",
      "n_gen  |  n_eval  | n_nds  |      eps      |   indicator  \n",
      "==========================================================\n",
      "     1 |       20 |      6 |             - |             -\n",
      "     2 |       40 |      5 |  0.0769230769 |         ideal\n",
      "     3 |       60 |      5 |  0.0261846951 |             f\n",
      "     4 |       80 |      4 |  0.1251542455 |         nadir\n",
      "     5 |      100 |      3 |  0.0638511534 |             f\n",
      "     6 |      120 |      3 |  0.0111181662 |             f\n",
      "     7 |      140 |      3 |  0.000000E+00 |             f\n",
      "     8 |      160 |      3 |  0.0039895929 |             f\n",
      "     9 |      180 |      3 |  0.0025824689 |         ideal\n",
      "    10 |      200 |      3 |  0.0330489078 |         ideal\n",
      "    11 |      220 |      3 |  0.0373463413 |         nadir\n",
      "    12 |      240 |      3 |  0.000000E+00 |             f\n",
      "    13 |      260 |      3 |  0.000000E+00 |             f\n",
      "    14 |      280 |      3 |  0.000000E+00 |             f\n",
      "    15 |      300 |      3 |  0.000000E+00 |             f\n",
      "    16 |      320 |      3 |  0.000000E+00 |             f\n",
      "    17 |      340 |      3 |  0.000000E+00 |             f\n",
      "    18 |      360 |      3 |  0.000000E+00 |             f\n",
      "    19 |      380 |      3 |  0.000000E+00 |             f\n",
      "    20 |      400 |      3 |  0.000000E+00 |             f\n"
     ]
    }
   ],
   "source": [
    "ps = 20\n",
    "problem = targetProblem()\n",
    "algorithm = NSGA2(\n",
    "    pop_size=ps,\n",
    "    sampling=IntegerRandomSampling(),\n",
    "    crossover=SBX(prob=0.7, eta=20, vtype=float, repair=RoundingRepair()),\n",
    "    mutation=PolynomialMutation(prob=0.2, eta=20, vtype=float, repair=RoundingRepair()),\n",
    "    eliminate_duplicates=True\n",
    ")\n",
    "\n",
    "print('\\n\\nNSGA-II inicializado - tamanho da população: ', ps)\n",
    "res = minimize(problem, algorithm, ('n_gen', 20), verbose=True, save_history=True, seed=6)\n",
    "\n",
    "best_top = res.X\n",
    "best_sol = res.F"
   ]
  },
  {
   "cell_type": "markdown",
   "id": "62063c06",
   "metadata": {
    "papermill": {
     "duration": 0.014109,
     "end_time": "2024-02-07T05:12:13.168966",
     "exception": false,
     "start_time": "2024-02-07T05:12:13.154857",
     "status": "completed"
    },
    "tags": []
   },
   "source": [
    "# Visualização"
   ]
  },
  {
   "cell_type": "markdown",
   "id": "c9f7b10b",
   "metadata": {
    "papermill": {
     "duration": 0.014171,
     "end_time": "2024-02-07T05:12:13.198046",
     "exception": false,
     "start_time": "2024-02-07T05:12:13.183875",
     "status": "completed"
    },
    "tags": []
   },
   "source": [
    "Plot das soluções não dominadas:"
   ]
  },
  {
   "cell_type": "code",
   "execution_count": 23,
   "id": "27b993d1",
   "metadata": {
    "execution": {
     "iopub.execute_input": "2024-02-07T05:12:13.228836Z",
     "iopub.status.busy": "2024-02-07T05:12:13.228178Z",
     "iopub.status.idle": "2024-02-07T05:12:13.436962Z",
     "shell.execute_reply": "2024-02-07T05:12:13.436109Z"
    },
    "papermill": {
     "duration": 0.226443,
     "end_time": "2024-02-07T05:12:13.439054",
     "exception": false,
     "start_time": "2024-02-07T05:12:13.212611",
     "status": "completed"
    },
    "tags": []
   },
   "outputs": [
    {
     "data": {
      "image/png": "[encoded data removed]",
      "text/plain": [
       "<Figure size 900x400 with 1 Axes>"
      ]
     },
     "metadata": {},
     "output_type": "display_data"
    }
   ],
   "source": [
    "f1 = res.F[:,0]\n",
    "f2 = res.F[:,1]\n",
    "plt.scatter(f1,f2, s=30, facecolors='none', edgecolors='red', label=('Soluções não dominadas'))\n",
    "plt.xlabel(\"MSE\")\n",
    "plt.ylabel(\"n_entrada\")\n",
    "plt.legend()\n",
    "plt.show()"
   ]
  },
  {
   "cell_type": "markdown",
   "id": "d269f64d",
   "metadata": {
    "papermill": {
     "duration": 0.014526,
     "end_time": "2024-02-07T05:12:13.468668",
     "exception": false,
     "start_time": "2024-02-07T05:12:13.454142",
     "status": "completed"
    },
    "tags": []
   },
   "source": [
    "Plot dos resultados ao longo das gerações:"
   ]
  },
  {
   "cell_type": "code",
   "execution_count": 24,
   "id": "f07edae8",
   "metadata": {
    "execution": {
     "iopub.execute_input": "2024-02-07T05:12:13.499246Z",
     "iopub.status.busy": "2024-02-07T05:12:13.498905Z",
     "iopub.status.idle": "2024-02-07T05:12:13.503097Z",
     "shell.execute_reply": "2024-02-07T05:12:13.502234Z"
    },
    "papermill": {
     "duration": 0.021624,
     "end_time": "2024-02-07T05:12:13.504945",
     "exception": false,
     "start_time": "2024-02-07T05:12:13.483321",
     "status": "completed"
    },
    "tags": []
   },
   "outputs": [],
   "source": [
    "all_pop = Population()"
   ]
  },
  {
   "cell_type": "code",
   "execution_count": 25,
   "id": "19d8b176",
   "metadata": {
    "execution": {
     "iopub.execute_input": "2024-02-07T05:12:13.535537Z",
     "iopub.status.busy": "2024-02-07T05:12:13.535265Z",
     "iopub.status.idle": "2024-02-07T05:12:13.545120Z",
     "shell.execute_reply": "2024-02-07T05:12:13.544429Z"
    },
    "papermill": {
     "duration": 0.027381,
     "end_time": "2024-02-07T05:12:13.546966",
     "exception": false,
     "start_time": "2024-02-07T05:12:13.519585",
     "status": "completed"
    },
    "tags": []
   },
   "outputs": [],
   "source": [
    "for algorithm in res.history:\n",
    " all_pop = Population.merge(all_pop, algorithm.off)\n",
    "df_Var = pd.DataFrame(all_pop.get(\"X\"), columns=[f\"X{i+1}\" for i in\n",
    "range(problem.n_var)])\n",
    "df_Res = pd.DataFrame(all_pop.get(\"F\"), columns=[f\"F{i+1}\" for i in\n",
    "range(problem.n_obj)])"
   ]
  },
  {
   "cell_type": "code",
   "execution_count": 26,
   "id": "49bdf409",
   "metadata": {
    "execution": {
     "iopub.execute_input": "2024-02-07T05:12:13.577710Z",
     "iopub.status.busy": "2024-02-07T05:12:13.577449Z",
     "iopub.status.idle": "2024-02-07T05:12:13.800597Z",
     "shell.execute_reply": "2024-02-07T05:12:13.799719Z"
    },
    "papermill": {
     "duration": 0.240976,
     "end_time": "2024-02-07T05:12:13.802747",
     "exception": false,
     "start_time": "2024-02-07T05:12:13.561771",
     "status": "completed"
    },
    "tags": []
   },
   "outputs": [
    {
     "data": {
      "image/png": "[encoded data removed]",
      "text/plain": [
       "<Figure size 900x400 with 1 Axes>"
      ]
     },
     "metadata": {},
     "output_type": "display_data"
    }
   ],
   "source": [
    "import matplotlib.animation as animation\n",
    "from IPython.display import Image\n",
    "\n",
    "df_Res['Modulo_F2'] = np.sqrt(df_Res['F2'] ** 2)\n",
    "\n",
    "fig, ax = plt.subplots()\n",
    "scatter = ax.scatter([], [], animated=True)\n",
    "ax.set_xlim(df_Res['F1'].min(), df_Res['F1'].max())\n",
    "ax.set_ylim(df_Res['Modulo_F2'].min(), df_Res['Modulo_F2'].max())\n",
    "ax.set_xlabel('MSE')\n",
    "ax.set_ylabel('n_entrada')\n",
    "\n",
    "frame_counter = ax.text(0.5, 0.95, '', ha='center', va='center', transform=ax.transAxes)\n",
    "\n",
    "def update(frame):\n",
    "    start_index = frame * ps\n",
    "    end_index = start_index + ps\n",
    "    data = df_Res.iloc[start_index:end_index]\n",
    "    scatter.set_offsets(data[['F1', 'Modulo_F2']])\n",
    "\n",
    "    frame_counter.set_text(f'Geração: {frame + 1}')\n",
    "\n",
    "    return scatter, frame_counter\n",
    "\n",
    "total_frames = len(df_Res) // ps\n",
    "ani = animation.FuncAnimation(fig, update, frames=total_frames, interval=600, blit=True)\n",
    "\n",
    "plt.show()"
   ]
  },
  {
   "cell_type": "code",
   "execution_count": 27,
   "id": "53d4b8aa",
   "metadata": {
    "execution": {
     "iopub.execute_input": "2024-02-07T05:12:13.835742Z",
     "iopub.status.busy": "2024-02-07T05:12:13.834944Z",
     "iopub.status.idle": "2024-02-07T05:12:15.373816Z",
     "shell.execute_reply": "2024-02-07T05:12:15.372964Z"
    },
    "papermill": {
     "duration": 1.558565,
     "end_time": "2024-02-07T05:12:15.376820",
     "exception": false,
     "start_time": "2024-02-07T05:12:13.818255",
     "status": "completed"
    },
    "tags": []
   },
   "outputs": [
    {
     "data": {
      "image/png": "[encoded data removed]",
      "text/plain": [
       "<IPython.core.display.Image object>"
      ]
     },
     "execution_count": 27,
     "metadata": {},
     "output_type": "execute_result"
    }
   ],
   "source": [
    "writer = animation.PillowWriter(fps=1, bitrate=1800)\n",
    "ani.save('scatter.gif', writer=writer)\n",
    "Image(open('scatter.gif','rb').read())"
   ]
  },
  {
   "cell_type": "markdown",
   "id": "4e5bb54a",
   "metadata": {
    "papermill": {
     "duration": 0.01699,
     "end_time": "2024-02-07T05:12:15.411112",
     "exception": false,
     "start_time": "2024-02-07T05:12:15.394122",
     "status": "completed"
    },
    "tags": []
   },
   "source": [
    "Visualização das melhores topologias e geração das imagens dos modelos:"
   ]
  },
  {
   "cell_type": "code",
   "execution_count": 28,
   "id": "1d4354c0",
   "metadata": {
    "execution": {
     "iopub.execute_input": "2024-02-07T05:12:15.447213Z",
     "iopub.status.busy": "2024-02-07T05:12:15.446515Z",
     "iopub.status.idle": "2024-02-07T05:12:16.757253Z",
     "shell.execute_reply": "2024-02-07T05:12:16.756210Z"
    },
    "papermill": {
     "duration": 1.331303,
     "end_time": "2024-02-07T05:12:16.759551",
     "exception": false,
     "start_time": "2024-02-07T05:12:15.428248",
     "status": "completed"
    },
    "tags": []
   },
   "outputs": [
    {
     "name": "stdout",
     "output_type": "stream",
     "text": [
      "Modelo_1\n",
      "Topologia: \n",
      "N. neurônios da camada de entrada:  30\n",
      "N. neurônios da camada CNN:  17\n",
      "N. neurônios da camada LSTM:  32\n",
      "MSE no conjunto de teste:  0.0005357632180675864\n",
      "\n",
      "\n",
      "\n",
      "Modelo_2\n",
      "Topologia: \n",
      "N. neurônios da camada de entrada:  4\n",
      "N. neurônios da camada CNN:  14\n",
      "N. neurônios da camada LSTM:  26\n",
      "MSE no conjunto de teste:  0.004422813653945923\n",
      "\n",
      "\n",
      "\n",
      "Modelo_3\n",
      "Topologia: \n",
      "N. neurônios da camada de entrada:  5\n",
      "N. neurônios da camada CNN:  31\n",
      "N. neurônios da camada LSTM:  31\n",
      "MSE no conjunto de teste:  0.0007514497265219688\n",
      "\n",
      "\n",
      "\n"
     ]
    }
   ],
   "source": [
    "for i in range(len(best_top)):\n",
    "    \n",
    "    name = 'Modelo_' + str(i+1)    \n",
    "    print(name)\n",
    "    print('Topologia: ')    \n",
    "    \n",
    "    n_entrada = int(best_top[i][2])\n",
    "    n_cnn = int(best_top[i][0])\n",
    "    n_lstm = int(best_top[i][1])    \n",
    "    \n",
    "    tmodel = keras.models.Sequential()\n",
    "    tmodel.add(keras.layers.Reshape((n_entrada, 1), input_shape=(n_entrada,)))\n",
    "\n",
    "    #1st layer - CNN\n",
    "    tmodel.add(keras.layers.Conv1D(n_cnn, 3, activation='relu'))\n",
    "    tmodel.add(keras.layers.MaxPooling1D(2))\n",
    "\n",
    "    #2nd layer - LSTM\n",
    "    tmodel.add(keras.layers.Flatten())\n",
    "    tmodel.add(keras.layers.Reshape((int((n_entrada-2)/2), n_cnn)))\n",
    "    tmodel.add(keras.layers.LSTM(n_lstm, activation='tanh'))\n",
    "\n",
    "    #Output layer\n",
    "    tmodel.add(keras.layers.Dense(1, activation='sigmoid'))\n",
    "    \n",
    "    print('N. neurônios da camada de entrada: ', n_entrada)\n",
    "    print('N. neurônios da camada CNN: ', n_cnn)\n",
    "    print('N. neurônios da camada LSTM: ', n_lstm)\n",
    "    print('MSE no conjunto de teste: ', best_sol[i][0])\n",
    "    \n",
    "    plot_model(tmodel, to_file= str(name + '_plot.png'), show_shapes=True, show_layer_names=True)\n",
    "    \n",
    "    print('\\n\\n')    \n",
    "    "
   ]
  },
  {
   "cell_type": "code",
   "execution_count": 29,
   "id": "368e1ef7",
   "metadata": {
    "execution": {
     "iopub.execute_input": "2024-02-07T05:12:16.796705Z",
     "iopub.status.busy": "2024-02-07T05:12:16.795924Z",
     "iopub.status.idle": "2024-02-07T05:12:16.801001Z",
     "shell.execute_reply": "2024-02-07T05:12:16.800118Z"
    },
    "papermill": {
     "duration": 0.025488,
     "end_time": "2024-02-07T05:12:16.802971",
     "exception": false,
     "start_time": "2024-02-07T05:12:16.777483",
     "status": "completed"
    },
    "tags": []
   },
   "outputs": [
    {
     "name": "stdout",
     "output_type": "stream",
     "text": [
      "Tempo de execução total: 3596.313062429428 segundos \n"
     ]
    }
   ],
   "source": [
    "print(\"Tempo de execução total: %s segundos \" % (time.time() - start_time))"
   ]
  }
 ],
 "metadata": {
  "kaggle": {
   "accelerator": "gpu",
   "dataSources": [],
   "dockerImageVersionId": 30648,
   "isGpuEnabled": true,
   "isInternetEnabled": true,
   "language": "python",
   "sourceType": "notebook"
  },
  "kernelspec": {
   "display_name": "Python 3",
   "language": "python",
   "name": "python3"
  },
  "language_info": {
   "codemirror_mode": {
    "name": "ipython",
    "version": 3
   },
   "file_extension": ".py",
   "mimetype": "text/x-python",
   "name": "python",
   "nbconvert_exporter": "python",
   "pygments_lexer": "ipython3",
   "version": "3.10.13"
  },
  "papermill": {
   "default_parameters": {},
   "duration": 3602.683581,
   "end_time": "2024-02-07T05:12:20.350320",
   "environment_variables": {},
   "exception": null,
   "input_path": "__notebook__.ipynb",
   "output_path": "__notebook__.ipynb",
   "parameters": {},
   "start_time": "2024-02-07T04:12:17.666739",
   "version": "2.5.0"
  }
 },
 "nbformat": 4,
 "nbformat_minor": 5
}
